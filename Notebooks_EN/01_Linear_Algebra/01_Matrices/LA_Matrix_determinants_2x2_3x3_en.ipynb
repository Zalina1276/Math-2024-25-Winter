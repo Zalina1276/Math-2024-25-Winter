{
  "cells": [
    {
      "cell_type": "markdown",
      "metadata": {
        "id": "view-in-github",
        "colab_type": "text"
      },
      "source": [
        "<a href=\"https://colab.research.google.com/github/Zalina1276/Math-2024-25-Winter/blob/main/Notebooks_EN/01_Linear_Algebra/01_Matrices/LA_Matrix_determinants_2x2_3x3_en.ipynb\" target=\"_parent\"><img src=\"https://colab.research.google.com/assets/colab-badge.svg\" alt=\"Open In Colab\"/></a>"
      ]
    },
    {
      "cell_type": "markdown",
      "metadata": {
        "id": "qcHbw_QjGW4k"
      },
      "source": [
        "# Determinants of 2x2 and 3x3 matrices\n",
        "\n",
        "### Determinant of a 2x2 Matrix\n",
        "\n",
        "The general formula for the determinant of a 2x2 matrix, where the matrix looks as follows:\n",
        "\n",
        "$$\n",
        "\\mathbf{A} =\n",
        "\\begin{pmatrix}\n",
        "a_{11} & a_{12} \\\\\n",
        "a_{21} & a_{22}\n",
        "\\end{pmatrix}\n",
        "$$\n",
        "\n",
        "The determinant of a 2x2 matrix is calculated using the formula:\n",
        "\n",
        "$$\n",
        "\\text{det}(A) = a_{11} \\cdot a_{22} - a_{12} \\cdot a_{21}\n",
        "$$\n",
        "\n",
        "### Determinant of a 3x3 Matrix\n",
        "\n",
        "The general formula for the determinant of a 3x3 matrix, where the matrix looks as follows:\n",
        "\n",
        "$$\n",
        "\\mathbf{B} =\n",
        "\\begin{pmatrix}\n",
        "a_{11} & a_{12} & a_{13} \\\\\n",
        "a_{21} & a_{22} & a_{23} \\\\\n",
        "a_{31} & a_{32} & a_{33}\n",
        "\\end{pmatrix}\n",
        "$$\n",
        "\n",
        "The determinant of a 3x3 matrix can be calculated using Sarrus' rule or Laplace expansion. Here, we will use Sarrus' rule:\n",
        "\n",
        "$$\n",
        "\\text{det}(B) = a_{11} \\cdot a_{22} \\cdot a_{33} + a_{12} \\cdot a_{23} \\cdot a_{31} + a_{13} \\cdot a_{21} \\cdot a_{32}\n",
        "- a_{13} \\cdot a_{22} \\cdot a_{31} - a_{12} \\cdot a_{21} \\cdot a_{33} - a_{11} \\cdot a_{23} \\cdot a_{32}\n",
        "$$\n",
        "\n",
        "<img src=\"https://upload.wikimedia.org/wikipedia/commons/c/c0/Sarrus_rule1.svg\" alt=\"Image description\" width=\"300\" align=\"center\"/>\n",
        "\n",
        "Note: Sarrus' rule does not work for matrices larger than 3x3.\n",
        "\n",
        "### Calculating Determinants in Python using SymPy\n",
        "\n",
        "Now, using the SymPy library, we will calculate the determinants for 2x2 and 3x3 matrices."
      ]
    },
    {
      "cell_type": "code",
      "execution_count": null,
      "metadata": {
        "id": "zdOcXkZiGW4o",
        "outputId": "1854d67d-a6b0-4927-f73f-4933a2cda56d"
      },
      "outputs": [
        {
          "data": {
            "text/latex": [
              "$\\displaystyle \\left[\\begin{matrix}2 & 3\\\\1 & 4\\end{matrix}\\right]$"
            ],
            "text/plain": [
              "Matrix([\n",
              "[2, 3],\n",
              "[1, 4]])"
            ]
          },
          "execution_count": 1,
          "metadata": {},
          "output_type": "execute_result"
        }
      ],
      "source": [
        "import sympy as sp\n",
        "\n",
        "# Define the matrix\n",
        "A = sp.Matrix([[2, 3], [1, 4]])\n",
        "A # display the matrix"
      ]
    },
    {
      "cell_type": "code",
      "execution_count": null,
      "metadata": {
        "notebookRunGroups": {
          "groupValue": "2"
        },
        "id": "R_-E5WMhGW4q",
        "outputId": "3fda5f98-33cc-4736-fe7d-db014da4c94d"
      },
      "outputs": [
        {
          "data": {
            "text/plain": [
              "True"
            ]
          },
          "execution_count": 2,
          "metadata": {},
          "output_type": "execute_result"
        }
      ],
      "source": [
        "# Verify the correctness of the calculations\n",
        "(2*4 - 3*1) == A.det()"
      ]
    },
    {
      "cell_type": "code",
      "execution_count": null,
      "metadata": {
        "id": "0A-BCmphGW4r",
        "outputId": "04ba3c34-499a-4122-a09c-33d140eda2bd"
      },
      "outputs": [
        {
          "data": {
            "text/latex": [
              "$\\displaystyle \\left[\\begin{matrix}2 & 3 & 1\\\\1 & 4 & 5\\\\3 & 2 & 1\\end{matrix}\\right]$"
            ],
            "text/plain": [
              "Matrix([\n",
              "[2, 3, 1],\n",
              "[1, 4, 5],\n",
              "[3, 2, 1]])"
            ]
          },
          "execution_count": 3,
          "metadata": {},
          "output_type": "execute_result"
        }
      ],
      "source": [
        "# 3x3 Matrix\n",
        "B = sp.Matrix([[2, 3, 1], [1, 4, 5], [3, 2, 1]])\n",
        "B"
      ]
    },
    {
      "cell_type": "code",
      "execution_count": null,
      "metadata": {
        "id": "VKdbSMqRGW4r",
        "outputId": "7b69d0e8-848a-4116-f4c8-fedbf093221c"
      },
      "outputs": [
        {
          "data": {
            "text/plain": [
              "True"
            ]
          },
          "execution_count": 4,
          "metadata": {},
          "output_type": "execute_result"
        }
      ],
      "source": [
        "# Verify the correctness of the calculations\n",
        "(2*4*1 + 3*5*3 + 1*1*2 - 1*4*3 - 5*2*2 - 3*1*1) == B.det()"
      ]
    },
    {
      "cell_type": "markdown",
      "metadata": {
        "id": "pecod0CLGW4s"
      },
      "source": [
        "---\n",
        "\n",
        "## Exercises for Students\n",
        "\n",
        "Calculate the determinants for the 2x2 and 3x3 matrices given below.\n",
        "\n",
        "1. 2x2 Matrices:\n",
        "\n",
        "$$\n",
        "\\mathbf{A} =\n",
        "\\begin{pmatrix}\n",
        "2 & 3 \\\\\n",
        "1 & 4\n",
        "\\end{pmatrix}\n",
        ", \\qquad\n",
        "\\mathbf{B} =\n",
        "\\begin{pmatrix}\n",
        "5 & 6 \\\\\n",
        "7 & 8\n",
        "\\end{pmatrix}\n",
        ", \\qquad\n",
        "\\mathbf{C} =\n",
        "\\begin{pmatrix}\n",
        "-1 & 2 \\\\\n",
        "3 & 0\n",
        "\\end{pmatrix}\n",
        "$$\n",
        "\n",
        "2. 3x3 Matrices:\n",
        "\n",
        "\n",
        "$$\n",
        "\\mathbf{D} =\n",
        "\\begin{pmatrix}\n",
        "1 & 0 & 2 \\\\\n",
        "-1 & 3 & 1 \\\\\n",
        "2 & 4 & -2\n",
        "\\end{pmatrix}\n",
        ", \\qquad\n",
        "\\mathbf{E} =\n",
        "\\begin{pmatrix}\n",
        "3 & 1 & -1 \\\\\n",
        "0 & 2 & 4 \\\\\n",
        "5 & 3 & 2\n",
        "\\end{pmatrix}\n",
        ", \\qquad\n",
        "\\mathbf{F} =\n",
        "\\begin{pmatrix}\n",
        "2 & -3 & 1 \\\\\n",
        "1 & 4 & -2 \\\\\n",
        "1 & 5 & 3\n",
        "\\end{pmatrix}\n",
        "$$"
      ]
    },
    {
      "cell_type": "markdown",
      "source": [
        "# ***Homework***\n",
        "##**Execrise 1**\n",
        "$$\n",
        "  \\mathbf{A} =\n",
        "  \\begin{pmatrix}\n",
        "  2 & 3 \\\\\n",
        "  1 & 4\n",
        "  \\end{pmatrix}\n",
        "  , \\qquad\n",
        "  \\mathbf{B} =\n",
        "  \\begin{pmatrix}\n",
        "  5 & 6 \\\\\n",
        "  7 & 8\n",
        "  \\end{pmatrix}\n",
        "  , \\qquad\n",
        "  \\mathbf{C} =\n",
        "  \\begin{pmatrix}\n",
        "  -1 & 2 \\\\\n",
        "  3 & 0\n",
        "  \\end{pmatrix}\n",
        "$$\n",
        "Since $A,B,C$  are 2x2 matrices, the determinant is:\n",
        "\n",
        "$$\n",
        "  det(D) = d_{11}\\cdot d_{22}-d_{12}\\cdot d_{21}\n",
        "$$\n",
        "\n",
        "$\n",
        "  \\mathbf{det}(A)= 2\\cdot 4 - 3\\cdot 1= 8-3=5\n",
        "$\n",
        "\n",
        "$\n",
        "  \\mathbf{det}(B)= 5\\cdot 8 - 6\\cdot 7= 40-42=-2\n",
        "$\n",
        "\n",
        "$\n",
        "  \\mathbf{det}(C)= (-1)\\cdot 0 - 3\\cdot 2= -6\n",
        "$\n",
        "\n",
        "##**Exercise 2**\n",
        "\n",
        "$$\n",
        "  \\mathbf{D} =\n",
        "  \\begin{pmatrix}\n",
        "  1 & 0 & 2 \\\\\n",
        "  -1 & 3 & 1 \\\\\n",
        "  2 & 4 & -2\n",
        "  \\end{pmatrix}\n",
        "  , \\qquad\n",
        "  \\mathbf{E} =\n",
        "  \\begin{pmatrix}\n",
        "  3 & 1 & -1 \\\\\n",
        "  0 & 2 & 4 \\\\\n",
        "  5 & 3 & 2\n",
        "  \\end{pmatrix}\n",
        "  , \\qquad\n",
        "  \\mathbf{F} =\n",
        "  \\begin{pmatrix}\n",
        "  2 & -3 & 1 \\\\\n",
        "  1 & 4 & -2 \\\\\n",
        "  1 & 5 & 3\n",
        "  \\end{pmatrix}\n",
        "$$\n",
        "\n",
        "Since $D,E,F$ are 3x3 matrices, the determinant is:\n",
        "\n",
        "$$\n",
        "  det(Z)=z_{11}\\cdot detZ_{11} - z_{12}\\cdot detZ_{12} + z_{13}\\cdot detZ_{13}\n",
        "$$\n",
        "\n",
        "$\n",
        "  \\mathbf{det}(D)= 1\\cdot \\begin{pmatrix} 3 & 1 \\\\ 4 & -2\\end{pmatrix} - 0 + 2\\cdot \\begin{pmatrix} -1 & 3 \\\\ 2 & 4\\end{pmatrix}= 1\\cdot (-10) - 0 - 20=-30\n",
        "$\n",
        "\n",
        "$\n",
        "  \\mathbf{det}(E)= 3\\cdot \\begin{pmatrix} 2 & 4 \\\\ 3 & 2\\end{pmatrix} - 1\\cdot \\begin{pmatrix} 0 & 4 \\\\ 5 & 2 \\end{pmatrix} + (-1)\\cdot \\begin{pmatrix} 0 & 2 \\\\ 5 & 3 \\end{pmatrix} = 3\\cdot (-8) - 1\\cdot (-20) + (-1)\\cdot (-10)=-24 + 20 + 10 = 14\n",
        "$\n",
        "\n",
        "$\n",
        "  \\mathbf{det}(F)= 2\\cdot \\begin{pmatrix} 4 & -2 \\\\ 5 & 3 \\end{pmatrix} - (-3)\\cdot \\begin{pmatrix} 1 & -2 \\\\ 1 & 3 \\end{pmatrix} + 1\\cdot \\begin{pmatrix} 1 & 4 \\\\ 1 & 5\\end{pmatrix}= 2\\cdot 22 + 3\\cdot 5 + 1= 44+15+1= 60\n",
        "$\n",
        "\n"
      ],
      "metadata": {
        "id": "iwlEvcvdGaVp"
      }
    },
    {
      "cell_type": "code",
      "source": [
        "import sympy as sp\n",
        "\n",
        "# Define the matrix F\n",
        "F = sp.Matrix([[2, -3, 1], [1, 4, -2], [1, 5, 3]])\n",
        "\n",
        "# Calculate the determinant of F\n",
        "det_F = F.det()\n",
        "\n",
        "# Print the determinant\n",
        "print(det_F)  # Output: 60import sympy as sp\n"
      ],
      "metadata": {
        "id": "aYu244byaD5C",
        "outputId": "889d2182-141a-47e3-dbe1-d3208795a6a2",
        "colab": {
          "base_uri": "https://localhost:8080/"
        }
      },
      "execution_count": 2,
      "outputs": [
        {
          "output_type": "stream",
          "name": "stdout",
          "text": [
            "60\n"
          ]
        }
      ]
    }
  ],
  "metadata": {
    "kernelspec": {
      "display_name": "Python 3",
      "language": "python",
      "name": "python3"
    },
    "language_info": {
      "codemirror_mode": {
        "name": "ipython",
        "version": 3
      },
      "file_extension": ".py",
      "mimetype": "text/x-python",
      "name": "python",
      "nbconvert_exporter": "python",
      "pygments_lexer": "ipython3",
      "version": "3.11.9"
    },
    "colab": {
      "provenance": [],
      "include_colab_link": true
    }
  },
  "nbformat": 4,
  "nbformat_minor": 0
}