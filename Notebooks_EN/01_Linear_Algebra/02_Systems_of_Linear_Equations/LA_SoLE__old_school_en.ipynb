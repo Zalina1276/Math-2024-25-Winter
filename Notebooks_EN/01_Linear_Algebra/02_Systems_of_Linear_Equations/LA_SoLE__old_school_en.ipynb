{
  "cells": [
    {
      "cell_type": "markdown",
      "metadata": {
        "id": "view-in-github",
        "colab_type": "text"
      },
      "source": [
        "<a href=\"https://colab.research.google.com/github/Zalina1276/Math-2024-25-Winter/blob/main/Notebooks_EN/01_Linear_Algebra/02_Systems_of_Linear_Equations/LA_SoLE__old_school_en.ipynb\" target=\"_parent\"><img src=\"https://colab.research.google.com/assets/colab-badge.svg\" alt=\"Open In Colab\"/></a>"
      ]
    },
    {
      "cell_type": "markdown",
      "metadata": {
        "id": "o9j17V0AUX7C"
      },
      "source": [
        "# School Method for Solving Systems of Linear Equations"
      ]
    },
    {
      "cell_type": "code",
      "execution_count": 3,
      "metadata": {
        "id": "zAhTqTqPUX7D"
      },
      "outputs": [],
      "source": [
        "import sympy as sp\n",
        "from sympy import symbols, Eq, expand, solve\n",
        "\n",
        "class EnhancedEq(Eq):\n",
        "    def __add__(self, other):\n",
        "        return EnhancedEq(self.lhs + other.lhs, self.rhs + other.rhs)\n",
        "\n",
        "    def __sub__(self, other):\n",
        "        return EnhancedEq(self.lhs - other.lhs, self.rhs - other.rhs)\n",
        "\n",
        "    def __mul__(self, scalar):\n",
        "        return EnhancedEq(scalar * self.lhs, scalar * self.rhs)\n",
        "\n",
        "    def __rmul__(self, scalar):\n",
        "        return self.__mul__(scalar)\n",
        "\n",
        "    def simplify(self):\n",
        "        return EnhancedEq(expand(self.lhs), expand(self.rhs))\n",
        "\n",
        "    def substitute(self, *args, **kwargs):\n",
        "        return EnhancedEq(self.lhs.subs(*args, **kwargs), self.rhs.subs(*args, **kwargs))\n",
        "\n",
        "    def solve_for(self, symbol):\n",
        "        return solve(self, symbol)\n",
        "\n",
        "# Example usage:\n",
        "x, y = symbols('x y')\n",
        "\n",
        "# Define equations\n",
        "eq1 = EnhancedEq(2*x + y, 5)\n",
        "eq2 = EnhancedEq(x - y, 1)"
      ]
    },
    {
      "cell_type": "code",
      "execution_count": 4,
      "metadata": {
        "id": "NS3O1bi8UX7D",
        "outputId": "7b308adb-d829-45a7-f788-4a0b24cf8a27",
        "colab": {
          "base_uri": "https://localhost:8080/",
          "height": 57
        }
      },
      "outputs": [
        {
          "output_type": "stream",
          "name": "stdout",
          "text": [
            "First equation:\n"
          ]
        },
        {
          "output_type": "execute_result",
          "data": {
            "text/plain": [
              "Eq(2*x + y, 5)"
            ],
            "text/latex": "$\\displaystyle 2 x + y = 5$"
          },
          "metadata": {},
          "execution_count": 4
        }
      ],
      "source": [
        "print(\"First equation:\")\n",
        "eq1"
      ]
    },
    {
      "cell_type": "code",
      "execution_count": 5,
      "metadata": {
        "id": "vJOVDJgBUX7E",
        "outputId": "17e1010f-9860-4f71-f3ed-32298dedebac",
        "colab": {
          "base_uri": "https://localhost:8080/",
          "height": 57
        }
      },
      "outputs": [
        {
          "output_type": "stream",
          "name": "stdout",
          "text": [
            "Second equation:\n"
          ]
        },
        {
          "output_type": "execute_result",
          "data": {
            "text/plain": [
              "Eq(x - y, 1)"
            ],
            "text/latex": "$\\displaystyle x - y = 1$"
          },
          "metadata": {},
          "execution_count": 5
        }
      ],
      "source": [
        "print(\"Second equation:\")\n",
        "eq2"
      ]
    },
    {
      "cell_type": "code",
      "execution_count": 6,
      "metadata": {
        "id": "QO4ljbagUX7E",
        "outputId": "62301ef3-300d-4889-fde0-aa6676659108",
        "colab": {
          "base_uri": "https://localhost:8080/",
          "height": 39
        }
      },
      "outputs": [
        {
          "output_type": "execute_result",
          "data": {
            "text/plain": [
              "Eq(3*x, 6)"
            ],
            "text/latex": "$\\displaystyle 3 x = 6$"
          },
          "metadata": {},
          "execution_count": 6
        }
      ],
      "source": [
        "# Add the equations\n",
        "eq3 = eq1 + eq2\n",
        "eq3"
      ]
    },
    {
      "cell_type": "code",
      "execution_count": 7,
      "metadata": {
        "id": "XEVNXoHoUX7E",
        "outputId": "4503d71a-6a4c-4df5-f8a9-bcc6257a16b6",
        "colab": {
          "base_uri": "https://localhost:8080/",
          "height": 37
        }
      },
      "outputs": [
        {
          "output_type": "execute_result",
          "data": {
            "text/plain": [
              "2"
            ],
            "text/latex": "$\\displaystyle 2$"
          },
          "metadata": {},
          "execution_count": 7
        }
      ],
      "source": [
        "# We have an equation with one unknown, so we can solve it\n",
        "sol_x = eq3.solve_for(x)[0]\n",
        "sol_x"
      ]
    },
    {
      "cell_type": "code",
      "execution_count": 8,
      "metadata": {
        "id": "azMWoIODUX7E",
        "outputId": "bee2a64b-dbfd-495c-9aef-2ee6fe416214",
        "colab": {
          "base_uri": "https://localhost:8080/",
          "height": 39
        }
      },
      "outputs": [
        {
          "output_type": "execute_result",
          "data": {
            "text/plain": [
              "Eq(2 - y, 1)"
            ],
            "text/latex": "$\\displaystyle 2 - y = 1$"
          },
          "metadata": {},
          "execution_count": 8
        }
      ],
      "source": [
        "# Substitute the solution into equation 2\n",
        "eq2 = eq2.substitute(x, sol_x)\n",
        "eq2"
      ]
    },
    {
      "cell_type": "code",
      "execution_count": 9,
      "metadata": {
        "id": "egrlak1nUX7E",
        "outputId": "9c753d18-5037-479e-efe0-4b3173398cb7",
        "colab": {
          "base_uri": "https://localhost:8080/",
          "height": 37
        }
      },
      "outputs": [
        {
          "output_type": "execute_result",
          "data": {
            "text/plain": [
              "1"
            ],
            "text/latex": "$\\displaystyle 1$"
          },
          "metadata": {},
          "execution_count": 9
        }
      ],
      "source": [
        "# We get an equation with one unknown, so we can solve it\n",
        "eq2.solve_for(y)[0]"
      ]
    },
    {
      "cell_type": "code",
      "execution_count": 10,
      "metadata": {
        "id": "eRxY9GEzUX7F",
        "outputId": "44706d1c-ec18-4932-e7ff-f6c5b0db7197",
        "colab": {
          "base_uri": "https://localhost:8080/"
        }
      },
      "outputs": [
        {
          "output_type": "execute_result",
          "data": {
            "text/plain": [
              "{x: 2, y: 1}"
            ]
          },
          "metadata": {},
          "execution_count": 10
        }
      ],
      "source": [
        "# Thus x=2, y=1\n",
        "# Verify with sympy\n",
        "sp.solve([eq1, eq2])"
      ]
    },
    {
      "cell_type": "markdown",
      "metadata": {
        "id": "lSXVdgvtUX7F"
      },
      "source": [
        "---\n",
        "\n",
        "### Exercises for Students\n",
        "\n",
        "Solve the following systems of equations similarly to the example above:\n",
        "\n",
        "* $3x-2y=5, \\quad 2x+3y=7$,\n",
        "* $2x-3y=10, \\quad 4x+5y=20$,\n",
        "* $2x - y + z = 3, \\quad x + 2y - z = 1, \\quad 3x - y + 2z = 11$.\n",
        "* $2x-3y+4z+2t=2, \\quad 3x+2y-5z+3t=3, \\quad 4x-3y+2z-5t=4, \\quad 5x+4y-3z+2t=5$."
      ]
    },
    {
      "cell_type": "code",
      "source": [
        "import sympy as sp\n",
        "from sympy import symbols, Eq, expand, solve\n",
        "\n",
        "class EnhancedEq(Eq):\n",
        "    def __add__(self, other):\n",
        "        return EnhancedEq(self.lhs + other.lhs, self.rhs + other.rhs)\n",
        "\n",
        "    def __sub__(self, other):\n",
        "        return EnhancedEq(self.lhs - other.lhs, self.rhs - other.rhs)\n",
        "\n",
        "    def __mul__(self, scalar):\n",
        "        return EnhancedEq(scalar * self.lhs, scalar * self.rhs)\n",
        "\n",
        "    def __rmul__(self, scalar):\n",
        "        return self.__mul__(scalar)\n",
        "\n",
        "    def simplify(self):\n",
        "        return EnhancedEq(expand(self.lhs), expand(self.rhs))\n",
        "\n",
        "    def substitute(self, *args, **kwargs):\n",
        "        return EnhancedEq(self.lhs.subs(*args, **kwargs), self.rhs.subs(*args, **kwargs))\n",
        "\n",
        "    def solve_for(self, symbol):\n",
        "        return solve(self, symbol)\n",
        "\n",
        "# Example usage:\n",
        "x, y = symbols('x y')\n",
        "\n",
        "# Define equations\n",
        "eq1 = EnhancedEq(3*x - 2*y, 5)\n",
        "eq2 = EnhancedEq(2*x + 3*y, 7)"
      ],
      "metadata": {
        "id": "7VKXkfR_VFbD"
      },
      "execution_count": 19,
      "outputs": []
    },
    {
      "cell_type": "code",
      "source": [
        "print(\"First equation:\")\n",
        "eq1"
      ],
      "metadata": {
        "id": "kyN-9cx_WRVH",
        "outputId": "5b506617-eda3-483c-ae7f-dd7578ed248c",
        "colab": {
          "base_uri": "https://localhost:8080/",
          "height": 57
        }
      },
      "execution_count": 20,
      "outputs": [
        {
          "output_type": "stream",
          "name": "stdout",
          "text": [
            "First equation:\n"
          ]
        },
        {
          "output_type": "execute_result",
          "data": {
            "text/plain": [
              "Eq(3*x - 2*y, 5)"
            ],
            "text/latex": "$\\displaystyle 3 x - 2 y = 5$"
          },
          "metadata": {},
          "execution_count": 20
        }
      ]
    },
    {
      "cell_type": "code",
      "source": [
        "print(\"Second equation:\")\n",
        "eq2"
      ],
      "metadata": {
        "id": "K53dRb8rWUMr",
        "outputId": "99b93d32-6401-4959-b7b0-42f5cff52bc3",
        "colab": {
          "base_uri": "https://localhost:8080/",
          "height": 57
        }
      },
      "execution_count": 21,
      "outputs": [
        {
          "output_type": "stream",
          "name": "stdout",
          "text": [
            "Second equation:\n"
          ]
        },
        {
          "output_type": "execute_result",
          "data": {
            "text/plain": [
              "Eq(2*x + 3*y, 7)"
            ],
            "text/latex": "$\\displaystyle 2 x + 3 y = 7$"
          },
          "metadata": {},
          "execution_count": 21
        }
      ]
    },
    {
      "cell_type": "code",
      "source": [
        "# Eliminate y: Multiply eq1 by 3 and eq2 by 2, then add\n",
        "eq3 = 3*eq1 + 2*eq2\n",
        "print(\"Equation after eliminating y:\", eq3)"
      ],
      "metadata": {
        "id": "voeOMw3bYC0A"
      },
      "execution_count": null,
      "outputs": []
    },
    {
      "cell_type": "code",
      "source": [
        "# We have an equation with one unknown, so we can solve it\n",
        "sol_x = eq3.solve_for(x)[0]\n",
        "sol_x"
      ],
      "metadata": {
        "id": "XM_qGFxRYViL",
        "outputId": "0f507b7c-6514-4cd2-94ab-9ab771600471",
        "colab": {
          "base_uri": "https://localhost:8080/",
          "height": 51
        }
      },
      "execution_count": 33,
      "outputs": [
        {
          "output_type": "execute_result",
          "data": {
            "text/plain": [
              "29/13"
            ],
            "text/latex": "$\\displaystyle \\frac{29}{13}$"
          },
          "metadata": {},
          "execution_count": 33
        }
      ]
    },
    {
      "cell_type": "code",
      "source": [
        "# Substitute the solution into equation 2\n",
        "eq2 = eq2.substitute(x, sol_x)\n",
        "eq2"
      ],
      "metadata": {
        "id": "M5mMmKO5YaJf",
        "outputId": "79a61715-6318-4a9b-ba90-13d04333fcdd",
        "colab": {
          "base_uri": "https://localhost:8080/",
          "height": 51
        }
      },
      "execution_count": 34,
      "outputs": [
        {
          "output_type": "execute_result",
          "data": {
            "text/plain": [
              "Eq(3*y + 58/13, 7)"
            ],
            "text/latex": "$\\displaystyle 3 y + \\frac{58}{13} = 7$"
          },
          "metadata": {},
          "execution_count": 34
        }
      ]
    },
    {
      "cell_type": "code",
      "source": [
        "sol_y = eq2.solve_for(y)[0]\n",
        "sol_y"
      ],
      "metadata": {
        "id": "MZF8S0SbYkFf",
        "outputId": "e2f2264b-9dbd-4ed2-ef6b-da5f21e8b43a",
        "colab": {
          "base_uri": "https://localhost:8080/",
          "height": 51
        }
      },
      "execution_count": 35,
      "outputs": [
        {
          "output_type": "execute_result",
          "data": {
            "text/plain": [
              "11/13"
            ],
            "text/latex": "$\\displaystyle \\frac{11}{13}$"
          },
          "metadata": {},
          "execution_count": 35
        }
      ]
    },
    {
      "cell_type": "code",
      "source": [
        "# thus x=29/13, y=11/13\n",
        "# verify with sympy\n",
        "sp.solve([eq1, eq2])"
      ],
      "metadata": {
        "id": "Xmukyz3oZF9m",
        "outputId": "51cf40ed-4c08-4c09-aa47-4e83f59b7e46",
        "colab": {
          "base_uri": "https://localhost:8080/"
        }
      },
      "execution_count": 37,
      "outputs": [
        {
          "output_type": "execute_result",
          "data": {
            "text/plain": [
              "{x: 29/13, y: 11/13}"
            ]
          },
          "metadata": {},
          "execution_count": 37
        }
      ]
    },
    {
      "cell_type": "code",
      "source": [
        "import sympy as sp\n",
        "from sympy import symbols, Eq, expand, solve\n",
        "\n",
        "class EnhancedEq(Eq):\n",
        "    def __add__(self, other):\n",
        "        return EnhancedEq(self.lhs + other.lhs, self.rhs + other.rhs)\n",
        "\n",
        "    def __sub__(self, other):\n",
        "        return EnhancedEq(self.lhs - other.lhs, self.rhs - other.rhs)\n",
        "\n",
        "    def __mul__(self, scalar):\n",
        "        return EnhancedEq(scalar * self.lhs, scalar * self.rhs)\n",
        "\n",
        "    def __rmul__(self, scalar):\n",
        "        return self.__mul__(scalar)\n",
        "\n",
        "    def simplify(self):\n",
        "        return EnhancedEq(expand(self.lhs), expand(self.rhs))\n",
        "\n",
        "    def substitute(self, *args, **kwargs):\n",
        "        return EnhancedEq(self.lhs.subs(*args, **kwargs), self.rhs.subs(*args, **kwargs))\n",
        "\n",
        "    def solve_for(self, symbol):\n",
        "        return solve(self, symbol)\n",
        "\n",
        "# Example usage:\n",
        "x, y = symbols('x y')\n",
        "\n",
        "# define equations:\n",
        "eq1 = EnhancedEq(2*x - 3*y, 10)\n",
        "eq2 = EnhancedEq(4*x + 5*y, 20)\n"
      ],
      "metadata": {
        "id": "_HbuctU2ZjYo"
      },
      "execution_count": 47,
      "outputs": []
    },
    {
      "cell_type": "code",
      "source": [
        "print (\"First equation:\")\n",
        "eq1"
      ],
      "metadata": {
        "id": "vluUeafGbKvT",
        "outputId": "c76bdff7-0238-4d7a-ef2b-ca5c25a85b9c",
        "colab": {
          "base_uri": "https://localhost:8080/",
          "height": 57
        }
      },
      "execution_count": 48,
      "outputs": [
        {
          "output_type": "stream",
          "name": "stdout",
          "text": [
            "First equation:\n"
          ]
        },
        {
          "output_type": "execute_result",
          "data": {
            "text/plain": [
              "Eq(2*x - 3*y, 10)"
            ],
            "text/latex": "$\\displaystyle 2 x - 3 y = 10$"
          },
          "metadata": {},
          "execution_count": 48
        }
      ]
    },
    {
      "cell_type": "code",
      "source": [
        "print (\"Second equation:\")\n",
        "eq2"
      ],
      "metadata": {
        "id": "15IbRehxbPUm",
        "outputId": "eede97ce-6e38-453c-a453-ddfb1c158bcb",
        "colab": {
          "base_uri": "https://localhost:8080/",
          "height": 57
        }
      },
      "execution_count": 49,
      "outputs": [
        {
          "output_type": "stream",
          "name": "stdout",
          "text": [
            "Second equation:\n"
          ]
        },
        {
          "output_type": "execute_result",
          "data": {
            "text/plain": [
              "Eq(4*x + 5*y, 20)"
            ],
            "text/latex": "$\\displaystyle 4 x + 5 y = 20$"
          },
          "metadata": {},
          "execution_count": 49
        }
      ]
    },
    {
      "cell_type": "code",
      "source": [
        "# eliminate x: multiply eq1 by -2, then add eq2\n",
        "eq3 = -2*eq1 + eq2\n",
        "eq3"
      ],
      "metadata": {
        "id": "8iF3X8qXbSTo",
        "outputId": "0d909df1-114b-4bf6-946c-21ef027c049e",
        "colab": {
          "base_uri": "https://localhost:8080/",
          "height": 39
        }
      },
      "execution_count": 50,
      "outputs": [
        {
          "output_type": "execute_result",
          "data": {
            "text/plain": [
              "Eq(11*y, 0)"
            ],
            "text/latex": "$\\displaystyle 11 y = 0$"
          },
          "metadata": {},
          "execution_count": 50
        }
      ]
    },
    {
      "cell_type": "code",
      "source": [
        "sol_y = eq3.solve_for(y)[0]\n",
        "sol_y"
      ],
      "metadata": {
        "id": "cWLED427bgwS",
        "outputId": "da10291c-b711-4728-cc9b-f7042b57c837",
        "colab": {
          "base_uri": "https://localhost:8080/",
          "height": 37
        }
      },
      "execution_count": 51,
      "outputs": [
        {
          "output_type": "execute_result",
          "data": {
            "text/plain": [
              "0"
            ],
            "text/latex": "$\\displaystyle 0$"
          },
          "metadata": {},
          "execution_count": 51
        }
      ]
    },
    {
      "cell_type": "code",
      "source": [
        "# substitute the solution into equation 1\n",
        "eq1 = eq1.substitute(y, sol_y)\n",
        "eq1"
      ],
      "metadata": {
        "id": "LIr1mkWvbitC",
        "outputId": "d0c9aeee-2216-449d-842c-9dc1227ba19e",
        "colab": {
          "base_uri": "https://localhost:8080/",
          "height": 39
        }
      },
      "execution_count": 52,
      "outputs": [
        {
          "output_type": "execute_result",
          "data": {
            "text/plain": [
              "Eq(2*x, 10)"
            ],
            "text/latex": "$\\displaystyle 2 x = 10$"
          },
          "metadata": {},
          "execution_count": 52
        }
      ]
    },
    {
      "cell_type": "code",
      "source": [
        "sol_x = eq1.solve_for(x)[0]\n",
        "sol_x"
      ],
      "metadata": {
        "id": "metb1Mo7bsBj",
        "outputId": "f3302cfa-0b01-42f7-9951-a69aa7ae42f7",
        "colab": {
          "base_uri": "https://localhost:8080/",
          "height": 37
        }
      },
      "execution_count": 53,
      "outputs": [
        {
          "output_type": "execute_result",
          "data": {
            "text/plain": [
              "5"
            ],
            "text/latex": "$\\displaystyle 5$"
          },
          "metadata": {},
          "execution_count": 53
        }
      ]
    },
    {
      "cell_type": "code",
      "source": [
        "# thus x=5, y=0\n",
        "# verify with sympy\n",
        "sp.solve([eq1, eq2])"
      ],
      "metadata": {
        "id": "NzYhetV8buER",
        "outputId": "96553005-7bb2-4f92-ba37-898487f1d253",
        "colab": {
          "base_uri": "https://localhost:8080/"
        }
      },
      "execution_count": 55,
      "outputs": [
        {
          "output_type": "execute_result",
          "data": {
            "text/plain": [
              "{x: 5, y: 0}"
            ]
          },
          "metadata": {},
          "execution_count": 55
        }
      ]
    },
    {
      "cell_type": "code",
      "source": [
        "import sympy as sp\n",
        "from sympy import symbols, Eq, expand, solve\n",
        "\n",
        "class EnhancedEq(Eq):\n",
        "    def __add__(self, other):\n",
        "        return EnhancedEq(self.lhs + other.lhs, self.rhs + other.rhs)\n",
        "\n",
        "    def __sub__(self, other):\n",
        "        return EnhancedEq(self.lhs - other.lhs, self.rhs - other.rhs)\n",
        "\n",
        "    def __mul__(self, scalar):\n",
        "        return EnhancedEq(scalar * self.lhs, scalar * self.rhs)\n",
        "\n",
        "    def __rmul__(self, scalar):\n",
        "        return self.__mul__(scalar)\n",
        "\n",
        "    def simplify(self):\n",
        "        return EnhancedEq(expand(self.lhs), expand(self.rhs))\n",
        "\n",
        "    def substitute(self, *args, **kwargs):\n",
        "        return EnhancedEq(self.lhs.subs(*args, **kwargs), self.rhs.subs(*args, **kwargs))\n",
        "\n",
        "    def solve_for(self, symbol):\n",
        "        return solve(self, symbol)\n",
        "\n",
        "# Example usage:\n",
        "x, y, z= symbols('x y z')\n",
        "\n",
        "# define equations:\n",
        "eq1 = EnhancedEq(2*x - y + z, 3)\n",
        "eq2 = EnhancedEq(x + 2*y - z, 1)\n",
        "eq3 = EnhancedEq(3*x - y + 2*z, 11)\n"
      ],
      "metadata": {
        "id": "5UPq4zXXcCFa"
      },
      "execution_count": 56,
      "outputs": []
    },
    {
      "cell_type": "code",
      "source": [
        "print (\"First equation:\")\n",
        "eq1"
      ],
      "metadata": {
        "id": "Nbrl-mVecoo_",
        "outputId": "4179bd4d-5068-43fb-d67a-8e6aabcd681b",
        "colab": {
          "base_uri": "https://localhost:8080/",
          "height": 57
        }
      },
      "execution_count": 57,
      "outputs": [
        {
          "output_type": "stream",
          "name": "stdout",
          "text": [
            "First equation:\n"
          ]
        },
        {
          "output_type": "execute_result",
          "data": {
            "text/plain": [
              "Eq(2*x - y + z, 3)"
            ],
            "text/latex": "$\\displaystyle 2 x - y + z = 3$"
          },
          "metadata": {},
          "execution_count": 57
        }
      ]
    },
    {
      "cell_type": "code",
      "source": [
        "print (\"Second equation:\")\n",
        "eq2"
      ],
      "metadata": {
        "id": "gmHl819Vcq36",
        "outputId": "f498757b-2003-420b-9956-1f8416e657b5",
        "colab": {
          "base_uri": "https://localhost:8080/",
          "height": 57
        }
      },
      "execution_count": 58,
      "outputs": [
        {
          "output_type": "stream",
          "name": "stdout",
          "text": [
            "Second equation:\n"
          ]
        },
        {
          "output_type": "execute_result",
          "data": {
            "text/plain": [
              "Eq(x + 2*y - z, 1)"
            ],
            "text/latex": "$\\displaystyle x + 2 y - z = 1$"
          },
          "metadata": {},
          "execution_count": 58
        }
      ]
    },
    {
      "cell_type": "code",
      "source": [
        "print (\"Third equation:\")\n",
        "eq3"
      ],
      "metadata": {
        "id": "V_egyjbdctOc",
        "outputId": "17a01f72-1854-4a48-ee9d-b4e5630b172c",
        "colab": {
          "base_uri": "https://localhost:8080/",
          "height": 57
        }
      },
      "execution_count": 59,
      "outputs": [
        {
          "output_type": "stream",
          "name": "stdout",
          "text": [
            "Third equation:\n"
          ]
        },
        {
          "output_type": "execute_result",
          "data": {
            "text/plain": [
              "Eq(3*x - y + 2*z, 11)"
            ],
            "text/latex": "$\\displaystyle 3 x - y + 2 z = 11$"
          },
          "metadata": {},
          "execution_count": 59
        }
      ]
    },
    {
      "cell_type": "code",
      "source": [
        "eq4 = eq1 + eq2\n",
        "eq4"
      ],
      "metadata": {
        "id": "SFXysuPicwQB",
        "outputId": "f607a81b-2eaf-45f6-a420-d63b98bb4d0e",
        "colab": {
          "base_uri": "https://localhost:8080/",
          "height": 39
        }
      },
      "execution_count": 62,
      "outputs": [
        {
          "output_type": "execute_result",
          "data": {
            "text/plain": [
              "Eq(3*x + y, 4)"
            ],
            "text/latex": "$\\displaystyle 3 x + y = 4$"
          },
          "metadata": {},
          "execution_count": 62
        }
      ]
    },
    {
      "cell_type": "code",
      "source": [
        "eq5 = 2*eq2 + eq3\n",
        "eq5"
      ],
      "metadata": {
        "id": "ORqiu9kUdhDM",
        "outputId": "fa53ded2-f839-41ff-db17-38e1e881bb0b",
        "colab": {
          "base_uri": "https://localhost:8080/",
          "height": 39
        }
      },
      "execution_count": 63,
      "outputs": [
        {
          "output_type": "execute_result",
          "data": {
            "text/plain": [
              "Eq(5*x + 3*y, 13)"
            ],
            "text/latex": "$\\displaystyle 5 x + 3 y = 13$"
          },
          "metadata": {},
          "execution_count": 63
        }
      ]
    },
    {
      "cell_type": "code",
      "source": [
        "eq6 = -3*eq4 + eq5\n",
        "eq6"
      ],
      "metadata": {
        "id": "0jV2A3bxd2aD",
        "outputId": "cdebdc32-9849-44b7-97f8-43c3285c1337",
        "colab": {
          "base_uri": "https://localhost:8080/",
          "height": 39
        }
      },
      "execution_count": 64,
      "outputs": [
        {
          "output_type": "execute_result",
          "data": {
            "text/plain": [
              "Eq(-4*x, 1)"
            ],
            "text/latex": "$\\displaystyle - 4 x = 1$"
          },
          "metadata": {},
          "execution_count": 64
        }
      ]
    },
    {
      "cell_type": "code",
      "source": [
        "sol_x = eq6.solve_for(x)[0]\n",
        "sol_x"
      ],
      "metadata": {
        "id": "tUAl3vV0d9Tj",
        "outputId": "2ee90d73-1b3f-4fef-f8e9-7a0eef23e7da",
        "colab": {
          "base_uri": "https://localhost:8080/",
          "height": 51
        }
      },
      "execution_count": 65,
      "outputs": [
        {
          "output_type": "execute_result",
          "data": {
            "text/plain": [
              "-1/4"
            ],
            "text/latex": "$\\displaystyle - \\frac{1}{4}$"
          },
          "metadata": {},
          "execution_count": 65
        }
      ]
    },
    {
      "cell_type": "code",
      "source": [
        "eq4 = eq4.substitute(x, sol_x)\n",
        "eq4"
      ],
      "metadata": {
        "id": "ptBh1YxGd_ks",
        "outputId": "f6961726-ade4-4f4d-a12b-3224503db33e",
        "colab": {
          "base_uri": "https://localhost:8080/",
          "height": 51
        }
      },
      "execution_count": 66,
      "outputs": [
        {
          "output_type": "execute_result",
          "data": {
            "text/plain": [
              "Eq(y - 3/4, 4)"
            ],
            "text/latex": "$\\displaystyle y - \\frac{3}{4} = 4$"
          },
          "metadata": {},
          "execution_count": 66
        }
      ]
    },
    {
      "cell_type": "code",
      "source": [
        "sol_y = eq4.solve_for(y)[0]\n",
        "sol_y"
      ],
      "metadata": {
        "id": "TZVrF-_AeJjp",
        "outputId": "f61dc6ae-b5ff-42f7-ec29-c9737a77e191",
        "colab": {
          "base_uri": "https://localhost:8080/",
          "height": 51
        }
      },
      "execution_count": 67,
      "outputs": [
        {
          "output_type": "execute_result",
          "data": {
            "text/plain": [
              "19/4"
            ],
            "text/latex": "$\\displaystyle \\frac{19}{4}$"
          },
          "metadata": {},
          "execution_count": 67
        }
      ]
    },
    {
      "cell_type": "code",
      "source": [
        "eq1 = eq1.substitute(x, sol_x)\n",
        "eq1 = eq1.substitute(y, sol_y)\n",
        "eq1"
      ],
      "metadata": {
        "id": "KPRsYGJieNFb",
        "outputId": "b15a5765-8c85-4c97-ce02-8cb83f31f2d2",
        "colab": {
          "base_uri": "https://localhost:8080/",
          "height": 51
        }
      },
      "execution_count": 70,
      "outputs": [
        {
          "output_type": "execute_result",
          "data": {
            "text/plain": [
              "Eq(z - 21/4, 3)"
            ],
            "text/latex": "$\\displaystyle z - \\frac{21}{4} = 3$"
          },
          "metadata": {},
          "execution_count": 70
        }
      ]
    },
    {
      "cell_type": "code",
      "source": [
        "sol_z = eq1.solve_for(z)[0]\n",
        "sol_z"
      ],
      "metadata": {
        "id": "uw9kV3LUeVTr",
        "outputId": "b85b98ea-fc18-40b6-8645-4e6022cad46d",
        "colab": {
          "base_uri": "https://localhost:8080/",
          "height": 51
        }
      },
      "execution_count": 69,
      "outputs": [
        {
          "output_type": "execute_result",
          "data": {
            "text/plain": [
              "33/4"
            ],
            "text/latex": "$\\displaystyle \\frac{33}{4}$"
          },
          "metadata": {},
          "execution_count": 69
        }
      ]
    },
    {
      "cell_type": "code",
      "source": [
        "sp.solve([eq1, eq2, eq3])\n"
      ],
      "metadata": {
        "id": "S9OkYtr-eyTc",
        "outputId": "ab64fe4b-59d5-4e31-dd85-2b5bfd8975a7",
        "colab": {
          "base_uri": "https://localhost:8080/"
        }
      },
      "execution_count": 71,
      "outputs": [
        {
          "output_type": "execute_result",
          "data": {
            "text/plain": [
              "{x: -1/4, y: 19/4, z: 33/4}"
            ]
          },
          "metadata": {},
          "execution_count": 71
        }
      ]
    },
    {
      "cell_type": "code",
      "source": [
        "import sympy as sp\n",
        "from sympy import symbols, Eq, expand, solve\n",
        "\n",
        "class EnhancedEq(Eq):\n",
        "    def __add__(self, other):\n",
        "        return EnhancedEq(self.lhs + other.lhs, self.rhs + other.rhs)\n",
        "\n",
        "    def __sub__(self, other):\n",
        "        return EnhancedEq(self.lhs - other.lhs, self.rhs - other.rhs)\n",
        "\n",
        "    def __mul__(self, scalar):\n",
        "        return EnhancedEq(scalar * self.lhs, scalar * self.rhs)\n",
        "\n",
        "    def __rmul__(self, scalar):\n",
        "        return self.__mul__(scalar)\n",
        "\n",
        "    def simplify(self):\n",
        "        return EnhancedEq(expand(self.lhs), expand(self.rhs))\n",
        "\n",
        "    def substitute(self, *args, **kwargs):\n",
        "        return EnhancedEq(self.lhs.subs(*args, **kwargs), self.rhs.subs(*args, **kwargs))\n",
        "\n",
        "    def solve_for(self, symbol):\n",
        "        return solve(self, symbol)\n",
        "\n",
        "# Example usage:\n",
        "x, y, z, t= symbols('x y z t')\n",
        "\n",
        "# define equations:\n",
        "eq1 = EnhancedEq(2*x - 3*y + 4*z + 2*t, 2)\n",
        "eq2 = EnhancedEq(3*x + 2*y - 5*z + 3*t, 3)\n",
        "eq3 = EnhancedEq(4*x - 3*y + 2*z - 5*t, 4)\n",
        "eq4 = EnhancedEq(5*x + 4*y - 3*z + 2*t, 5)\n"
      ],
      "metadata": {
        "id": "VUDQjMXNe5EC"
      },
      "execution_count": 133,
      "outputs": []
    },
    {
      "cell_type": "code",
      "source": [
        "print(\"Original Equations:\")\n",
        "display(eq1, eq2, eq3, eq4)\n"
      ],
      "metadata": {
        "id": "NCcNlgPTjez0",
        "outputId": "f13186d0-8698-43fc-aef2-af0a1933a6d5",
        "colab": {
          "base_uri": "https://localhost:8080/",
          "height": 123
        }
      },
      "execution_count": 134,
      "outputs": [
        {
          "output_type": "stream",
          "name": "stdout",
          "text": [
            "Original Equations:\n"
          ]
        },
        {
          "output_type": "display_data",
          "data": {
            "text/plain": [
              "Eq(2*t + 2*x - 3*y + 4*z, 2)"
            ],
            "text/latex": "$\\displaystyle 2 t + 2 x - 3 y + 4 z = 2$"
          },
          "metadata": {}
        },
        {
          "output_type": "display_data",
          "data": {
            "text/plain": [
              "Eq(3*t + 3*x + 2*y - 5*z, 3)"
            ],
            "text/latex": "$\\displaystyle 3 t + 3 x + 2 y - 5 z = 3$"
          },
          "metadata": {}
        },
        {
          "output_type": "display_data",
          "data": {
            "text/plain": [
              "Eq(-5*t + 4*x - 3*y + 2*z, 4)"
            ],
            "text/latex": "$\\displaystyle - 5 t + 4 x - 3 y + 2 z = 4$"
          },
          "metadata": {}
        },
        {
          "output_type": "display_data",
          "data": {
            "text/plain": [
              "Eq(2*t + 5*x + 4*y - 3*z, 5)"
            ],
            "text/latex": "$\\displaystyle 2 t + 5 x + 4 y - 3 z = 5$"
          },
          "metadata": {}
        }
      ]
    },
    {
      "cell_type": "code",
      "source": [
        "eq5 = 2*eq2 - 3*eq1\n",
        "eq5"
      ],
      "metadata": {
        "id": "qrKkUcGvkTRH",
        "outputId": "da4ceee7-7221-4495-db3a-2f1c44624134",
        "colab": {
          "base_uri": "https://localhost:8080/",
          "height": 39
        }
      },
      "execution_count": 135,
      "outputs": [
        {
          "output_type": "execute_result",
          "data": {
            "text/plain": [
              "Eq(13*y - 22*z, 0)"
            ],
            "text/latex": "$\\displaystyle 13 y - 22 z = 0$"
          },
          "metadata": {},
          "execution_count": 135
        }
      ]
    },
    {
      "cell_type": "code",
      "source": [
        "eq6 = eq3 - 2*eq1\n",
        "eq6"
      ],
      "metadata": {
        "id": "YFB5BHgQkbz8",
        "outputId": "2717eda0-48f3-451a-c184-06700573e615",
        "colab": {
          "base_uri": "https://localhost:8080/",
          "height": 39
        }
      },
      "execution_count": 140,
      "outputs": [
        {
          "output_type": "execute_result",
          "data": {
            "text/plain": [
              "Eq(-9*t + 3*y - 6*z, 0)"
            ],
            "text/latex": "$\\displaystyle - 9 t + 3 y - 6 z = 0$"
          },
          "metadata": {},
          "execution_count": 140
        }
      ]
    },
    {
      "cell_type": "code",
      "source": [
        "eq7 = 2*eq4 - 5*eq1\n",
        "eq7"
      ],
      "metadata": {
        "id": "UrIqejltk1_q",
        "outputId": "e5f8c8b2-28f9-46bf-b67b-4486dafa598c",
        "colab": {
          "base_uri": "https://localhost:8080/",
          "height": 39
        }
      },
      "execution_count": 141,
      "outputs": [
        {
          "output_type": "execute_result",
          "data": {
            "text/plain": [
              "Eq(-6*t + 23*y - 26*z, 0)"
            ],
            "text/latex": "$\\displaystyle - 6 t + 23 y - 26 z = 0$"
          },
          "metadata": {},
          "execution_count": 141
        }
      ]
    },
    {
      "cell_type": "code",
      "source": [
        "eq8 = 2*eq6 - 3*eq7\n",
        "eq8"
      ],
      "metadata": {
        "id": "Zvxpw3GCk-T3",
        "outputId": "c99956ac-ae1a-4e6e-c8fc-703f79fad076",
        "colab": {
          "base_uri": "https://localhost:8080/",
          "height": 39
        }
      },
      "execution_count": 143,
      "outputs": [
        {
          "output_type": "execute_result",
          "data": {
            "text/plain": [
              "Eq(-63*y + 66*z, 0)"
            ],
            "text/latex": "$\\displaystyle - 63 y + 66 z = 0$"
          },
          "metadata": {},
          "execution_count": 143
        }
      ]
    },
    {
      "cell_type": "code",
      "source": [
        "eq9 = eq8 + 3*eq5\n",
        "eq9"
      ],
      "metadata": {
        "id": "xE2P5hdVlnyx",
        "outputId": "3d74a7e8-675b-4418-e68f-2047e33c2e0a",
        "colab": {
          "base_uri": "https://localhost:8080/",
          "height": 39
        }
      },
      "execution_count": 144,
      "outputs": [
        {
          "output_type": "execute_result",
          "data": {
            "text/plain": [
              "Eq(-24*y, 0)"
            ],
            "text/latex": "$\\displaystyle - 24 y = 0$"
          },
          "metadata": {},
          "execution_count": 144
        }
      ]
    },
    {
      "cell_type": "code",
      "source": [
        "sol_y = eq9.solve_for(y)[0]\n",
        "sol_y"
      ],
      "metadata": {
        "id": "Ohde8JwNlx1g",
        "outputId": "72ff7d5d-3446-4906-b8f4-541c35eba348",
        "colab": {
          "base_uri": "https://localhost:8080/",
          "height": 37
        }
      },
      "execution_count": 146,
      "outputs": [
        {
          "output_type": "execute_result",
          "data": {
            "text/plain": [
              "0"
            ],
            "text/latex": "$\\displaystyle 0$"
          },
          "metadata": {},
          "execution_count": 146
        }
      ]
    },
    {
      "cell_type": "code",
      "source": [
        "eq5 = eq5.substitute(y, sol_y)\n",
        "eq5"
      ],
      "metadata": {
        "id": "KoSYkHEfl3kP",
        "outputId": "1e33f8e1-77da-412a-bbf6-f8aace3973f7",
        "colab": {
          "base_uri": "https://localhost:8080/",
          "height": 39
        }
      },
      "execution_count": 147,
      "outputs": [
        {
          "output_type": "execute_result",
          "data": {
            "text/plain": [
              "Eq(-22*z, 0)"
            ],
            "text/latex": "$\\displaystyle - 22 z = 0$"
          },
          "metadata": {},
          "execution_count": 147
        }
      ]
    },
    {
      "cell_type": "code",
      "source": [
        "sol_z = eq5.solve_for(z)[0]\n",
        "sol_z"
      ],
      "metadata": {
        "id": "L52voBDVmOFW",
        "outputId": "6328d69d-d401-4de4-e7cc-eebc9812e702",
        "colab": {
          "base_uri": "https://localhost:8080/",
          "height": 37
        }
      },
      "execution_count": 148,
      "outputs": [
        {
          "output_type": "execute_result",
          "data": {
            "text/plain": [
              "0"
            ],
            "text/latex": "$\\displaystyle 0$"
          },
          "metadata": {},
          "execution_count": 148
        }
      ]
    },
    {
      "cell_type": "code",
      "source": [
        "eq6 = eq6.substitute(y, sol_y)\n",
        "eq6 = eq6.substitute(z, sol_z)\n",
        "eq6"
      ],
      "metadata": {
        "id": "kIfcrcdjmAl-",
        "outputId": "e6cda1eb-1f01-4ca7-e64f-da42d75a2ace",
        "colab": {
          "base_uri": "https://localhost:8080/",
          "height": 39
        }
      },
      "execution_count": 149,
      "outputs": [
        {
          "output_type": "execute_result",
          "data": {
            "text/plain": [
              "Eq(-9*t, 0)"
            ],
            "text/latex": "$\\displaystyle - 9 t = 0$"
          },
          "metadata": {},
          "execution_count": 149
        }
      ]
    },
    {
      "cell_type": "code",
      "source": [
        "sol_t = eq6.solve_for(t)[0]\n",
        "sol_t"
      ],
      "metadata": {
        "id": "YiymwxTrmYXO",
        "outputId": "3557f1b8-85e5-43c2-b5f6-c32f9004af5b",
        "colab": {
          "base_uri": "https://localhost:8080/",
          "height": 37
        }
      },
      "execution_count": 150,
      "outputs": [
        {
          "output_type": "execute_result",
          "data": {
            "text/plain": [
              "0"
            ],
            "text/latex": "$\\displaystyle 0$"
          },
          "metadata": {},
          "execution_count": 150
        }
      ]
    },
    {
      "cell_type": "code",
      "source": [
        "eq1 = eq1.substitute(y, sol_y)\n",
        "eq1 = eq1.substitute(z, sol_z)\n",
        "eq1 = eq1.substitute(t, sol_t)\n",
        "eq1"
      ],
      "metadata": {
        "id": "nnUsSEq7mdMn",
        "outputId": "b98d87ff-51c1-4401-b5aa-1f12ef9ff46b",
        "colab": {
          "base_uri": "https://localhost:8080/",
          "height": 39
        }
      },
      "execution_count": 151,
      "outputs": [
        {
          "output_type": "execute_result",
          "data": {
            "text/plain": [
              "Eq(2*x, 2)"
            ],
            "text/latex": "$\\displaystyle 2 x = 2$"
          },
          "metadata": {},
          "execution_count": 151
        }
      ]
    },
    {
      "cell_type": "code",
      "source": [
        "sol_x = eq1.solve_for(x)[0]\n",
        "sol_x"
      ],
      "metadata": {
        "id": "VqExChK5mglB",
        "outputId": "4498eab4-ae04-4787-f56c-726699ec5e1c",
        "colab": {
          "base_uri": "https://localhost:8080/",
          "height": 37
        }
      },
      "execution_count": 152,
      "outputs": [
        {
          "output_type": "execute_result",
          "data": {
            "text/plain": [
              "1"
            ],
            "text/latex": "$\\displaystyle 1$"
          },
          "metadata": {},
          "execution_count": 152
        }
      ]
    },
    {
      "cell_type": "code",
      "source": [
        "sp.solve([eq1, eq2, eq3, eq4])"
      ],
      "metadata": {
        "id": "0e5n6BlQmmrk",
        "outputId": "36eeecd5-835f-4cdd-c01f-f88367d7926e",
        "colab": {
          "base_uri": "https://localhost:8080/"
        }
      },
      "execution_count": 153,
      "outputs": [
        {
          "output_type": "execute_result",
          "data": {
            "text/plain": [
              "{t: 0, x: 1, y: 0, z: 0}"
            ]
          },
          "metadata": {},
          "execution_count": 153
        }
      ]
    }
  ],
  "metadata": {
    "kernelspec": {
      "display_name": "Python 3",
      "language": "python",
      "name": "python3"
    },
    "language_info": {
      "codemirror_mode": {
        "name": "ipython",
        "version": 3
      },
      "file_extension": ".py",
      "mimetype": "text/x-python",
      "name": "python",
      "nbconvert_exporter": "python",
      "pygments_lexer": "ipython3",
      "version": "3.11.9"
    },
    "colab": {
      "provenance": [],
      "include_colab_link": true
    }
  },
  "nbformat": 4,
  "nbformat_minor": 0
}