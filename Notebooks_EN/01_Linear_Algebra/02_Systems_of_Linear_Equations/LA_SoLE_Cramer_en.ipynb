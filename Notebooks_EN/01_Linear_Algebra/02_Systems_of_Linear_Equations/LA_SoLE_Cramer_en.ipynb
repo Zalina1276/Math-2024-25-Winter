{
  "cells": [
    {
      "cell_type": "markdown",
      "metadata": {
        "id": "view-in-github",
        "colab_type": "text"
      },
      "source": [
        "<a href=\"https://colab.research.google.com/github/Zalina1276/Math-2024-25-Winter/blob/main/Notebooks_EN/01_Linear_Algebra/02_Systems_of_Linear_Equations/LA_SoLE_Cramer_en.ipynb\" target=\"_parent\"><img src=\"https://colab.research.google.com/assets/colab-badge.svg\" alt=\"Open In Colab\"/></a>"
      ]
    },
    {
      "cell_type": "markdown",
      "metadata": {
        "id": "anD7c1WkPt-X"
      },
      "source": [
        "# Cramer's Rule - Examples for 2x2, 3x3, and 4x4 Systems\n",
        "\n",
        "Cramer's rule is used only when the number of equations is equal to the number of unknowns. In other words, the coefficient matrix must be a square matrix.\n",
        "\n",
        "**These formulas are used only** when the **determinant** of the coefficient matrix is **non-zero**. Otherwise, the system of equations is either inconsistent or indeterminate.\n",
        "\n",
        "## 2x2 System of Equations\n",
        "\n",
        "Consider a system of two equations with two unknowns:\n",
        "\n",
        "$$\n",
        "\\begin{cases}\n",
        "a_{11}x_1 + a_{12}x_2 = b_1 \\\\\n",
        "a_{21}x_1 + a_{22}x_2 = b_2\n",
        "\\end{cases}\n",
        "$$\n",
        "\n",
        "Cramer's rule for the unknowns $ x_1 $ and $ x_2 $ is as follows:\n",
        "\n",
        "$$\n",
        "x_1 = \\frac{\\det(A_1)}{\\det(A)} \\quad \\text{and} \\quad x_2 = \\frac{\\det(A_2)}{\\det(A)}\n",
        "$$\n",
        "\n",
        "Where:\n",
        "\n",
        "$$\n",
        "\\det(A) =\n",
        "\\begin{vmatrix}\n",
        "a_{11} & a_{12} \\\\\n",
        "a_{21} & a_{22}\n",
        "\\end{vmatrix}\n",
        "= a_{11}a_{22} - a_{12}a_{21}\n",
        "$$\n",
        "\n",
        "$$\n",
        "\\det(A_1) =\n",
        "\\begin{vmatrix}\n",
        "b_1 & a_{12} \\\\\n",
        "b_2 & a_{22}\n",
        "\\end{vmatrix}\n",
        "= b_1a_{22} - a_{12}b_2\n",
        "$$\n",
        "\n",
        "$$\n",
        "\\det(A_2) =\n",
        "\\begin{vmatrix}\n",
        "a_{11} & b_1 \\\\\n",
        "a_{21} & b_2\n",
        "\\end{vmatrix}\n",
        "= a_{11}b_2 - b_1a_{21}\n",
        "$$\n",
        "\n",
        "## 3x3 System of Equations\n",
        "\n",
        "Consider a system of three equations with three unknowns:\n",
        "\n",
        "$$\n",
        "\\begin{cases}\n",
        "a_{11}x_1 + a_{12}x_2 + a_{13}x_3 = b_1 \\\\\n",
        "a_{21}x_1 + a_{22}x_2 + a_{23}x_3 = b_2 \\\\\n",
        "a_{31}x_1 + a_{32}x_2 + a_{33}x_3 = b_3\n",
        "\\end{cases}\n",
        "$$\n",
        "\n",
        "Cramer's rule for $ x_1 $, $ x_2 $, and $ x_3 $:\n",
        "\n",
        "$$\n",
        "x_1 = \\frac{\\det(A_1)}{\\det(A)} \\quad x_2 = \\frac{\\det(A_2)}{\\det(A)} \\quad x_3 = \\frac{\\det(A_3)}{\\det(A)}\n",
        "$$\n",
        "\n",
        "Where:\n",
        "\n",
        "$$\n",
        "\\det(A) =\n",
        "\\begin{vmatrix}\n",
        "a_{11} & a_{12} & a_{13} \\\\\n",
        "a_{21} & a_{22} & a_{23} \\\\\n",
        "a_{31} & a_{32} & a_{33}\n",
        "\\end{vmatrix}\n",
        "$$\n",
        "\n",
        "$$\n",
        "\\det(A_1) =\n",
        "\\begin{vmatrix}\n",
        "b_1 & a_{12} & a_{13} \\\\\n",
        "b_2 & a_{22} & a_{23} \\\\\n",
        "b_3 & a_{32} & a_{33}\n",
        "\\end{vmatrix}\n",
        "$$\n",
        "\n",
        "$$\n",
        "\\det(A_2) =\n",
        "\\begin{vmatrix}\n",
        "a_{11} & b_1 & a_{13} \\\\\n",
        "a_{21} & b_2 & a_{23} \\\\\n",
        "a_{31} & b_3 & a_{33}\n",
        "\\end{vmatrix}\n",
        "$$\n",
        "\n",
        "$$\n",
        "\\det(A_3) =\n",
        "\\begin{vmatrix}\n",
        "a_{11} & a_{12} & b_1 \\\\\n",
        "a_{21} & a_{22} & b_2 \\\\\n",
        "a_{31} & a_{32} & b_3\n",
        "\\end{vmatrix}\n",
        "$$\n",
        "\n",
        "## 4x4 System of Equations\n",
        "\n",
        "Consider a system of four equations with four unknowns:\n",
        "\n",
        "$$\n",
        "\\begin{cases}\n",
        "a_{11}x_1 + a_{12}x_2 + a_{13}x_3 + a_{14}x_4 = b_1 \\\\\n",
        "a_{21}x_1 + a_{22}x_2 + a_{23}x_3 + a_{24}x_4 = b_2 \\\\\n",
        "a_{31}x_1 + a_{32}x_2 + a_{33}x_3 + a_{34}x_4 = b_3 \\\\\n",
        "a_{41}x_1 + a_{42}x_2 + a_{43}x_3 + a_{44}x_4 = b_4\n",
        "\\end{cases}\n",
        "$$\n",
        "\n",
        "Cramer's rule for $ x_1 $, $ x_2 $, $ x_3 $, and $ x_4 $:\n",
        "\n",
        "$$\n",
        "x_1 = \\frac{\\det(A_1)}{\\det(A)} \\quad x_2 = \\frac{\\det(A_2)}{\\det(A)} \\quad x_3 = \\frac{\\det(A_3)}{\\det(A)} \\quad x_4 = \\frac{\\det(A_4)}{\\det(A)}\n",
        "$$\n",
        "\n",
        "Where:\n",
        "\n",
        "$$\n",
        "\\det(A) =\n",
        "\\begin{vmatrix}\n",
        "a_{11} & a_{12} & a_{13} & a_{14} \\\\\n",
        "a_{21} & a_{22} & a_{23} & a_{24} \\\\\n",
        "a_{31} & a_{32} & a_{33} & a_{34} \\\\\n",
        "a_{41} & a_{42} & a_{43} & a_{44}\n",
        "\\end{vmatrix}\n",
        "$$\n",
        "\n",
        "$$\n",
        "\\det(A_1) =\n",
        "\\begin{vmatrix}\n",
        "b_1 & a_{12} & a_{13} & a_{14} \\\\\n",
        "b_2 & a_{22} & a_{23} & a_{24} \\\\\n",
        "b_3 & a_{32} & a_{33} & a_{34} \\\\\n",
        "b_4 & a_{42} & a_{43} & a_{44}\n",
        "\\end{vmatrix}\n",
        "$$\n",
        "\n",
        "$$\n",
        "\\det(A_2) =\n",
        "\\begin{vmatrix}\n",
        "a_{11} & b_1 & a_{13} & a_{14} \\\\\n",
        "a_{21} & b_2 & a_{23} & a_{24} \\\\\n",
        "a_{31} & b_3 & a_{33} & a_{34} \\\\\n",
        "a_{41} & b_4 & a_{43} & a_{44}\n",
        "\\end{vmatrix}\n",
        "$$\n",
        "\n",
        "$$\n",
        "\\det(A_3) =\n",
        "\\begin{vmatrix}\n",
        "a_{11} & a_{12} & b_1 & a_{14} \\\\\n",
        "a_{21} & a_{22} & b_2 & a_{24} \\\\\n",
        "a_{31} & a_{32} & b_3 & a_{34} \\\\\n",
        "a_{41} & a_{42} & b_4 & a_{44}\n",
        "\\end{vmatrix}\n",
        "$$\n",
        "\n",
        "$$\n",
        "\\det(A_4) =\n",
        "\\begin{vmatrix}\n",
        "a_{11} & a_{12} & a_{13} & b_1 \\\\\n",
        "a_{21} & a_{22} & a_{23} & b_2 \\\\\n",
        "a_{31} & a_{32} & a_{33} & b_3 \\\\\n",
        "a_{41} & a_{42} & a_{43} & b_4\n",
        "\\end{vmatrix}\n",
        "$$\n",
        "\n",
        "## Example"
      ]
    },
    {
      "cell_type": "code",
      "execution_count": null,
      "metadata": {
        "id": "OzmVHyz-Pt-a"
      },
      "outputs": [],
      "source": [
        "import sympy as sp\n",
        "\n",
        "# Define symbols\n",
        "x, y, z = sp.symbols('x y z')\n",
        "\n",
        "# Define the system of equations\n",
        "eq1 = sp.Eq(2*x + 3*y + z, 1)\n",
        "eq2 = sp.Eq(3*x + 2*y + 2*z, 2)\n",
        "eq3 = sp.Eq(x + y + z, 3)\n",
        "\n",
        "# Coefficient matrix of the system\n",
        "A = sp.Matrix([[2, 3, 1], [3, 2, 2], [1, 1, 1]])\n",
        "# Free terms vector\n",
        "b = sp.Matrix([1, 2, 3])"
      ]
    },
    {
      "cell_type": "code",
      "execution_count": null,
      "metadata": {
        "id": "O0XIQQ3oPt-c",
        "outputId": "0f850d86-b9f4-4693-fad5-6396f04c13ba"
      },
      "outputs": [
        {
          "data": {
            "text/latex": [
              "$\\displaystyle \\left[\\begin{matrix}2 & 3 & 1\\\\3 & 2 & 2\\\\1 & 1 & 1\\end{matrix}\\right]$"
            ],
            "text/plain": [
              "Matrix([\n",
              "[2, 3, 1],\n",
              "[3, 2, 2],\n",
              "[1, 1, 1]])"
            ]
          },
          "execution_count": 2,
          "metadata": {},
          "output_type": "execute_result"
        }
      ],
      "source": [
        "A"
      ]
    },
    {
      "cell_type": "code",
      "execution_count": null,
      "metadata": {
        "id": "ld7DeIDOPt-e",
        "outputId": "8b03b425-6ede-41a5-fa5b-8eba0f86c23f"
      },
      "outputs": [
        {
          "data": {
            "text/latex": [
              "$\\displaystyle \\left[\\begin{matrix}1\\\\2\\\\3\\end{matrix}\\right]$"
            ],
            "text/plain": [
              "Matrix([\n",
              "[1],\n",
              "[2],\n",
              "[3]])"
            ]
          },
          "execution_count": 3,
          "metadata": {},
          "output_type": "execute_result"
        }
      ],
      "source": [
        "b"
      ]
    },
    {
      "cell_type": "code",
      "execution_count": null,
      "metadata": {
        "id": "VicLsu8WPt-f",
        "outputId": "5f011997-92a5-4114-f475-b7ae11336a3f"
      },
      "outputs": [
        {
          "data": {
            "text/latex": [
              "$\\displaystyle \\left[\\begin{matrix}1 & 3 & 1\\\\2 & 2 & 2\\\\3 & 1 & 1\\end{matrix}\\right]$"
            ],
            "text/plain": [
              "Matrix([\n",
              "[1, 3, 1],\n",
              "[2, 2, 2],\n",
              "[3, 1, 1]])"
            ]
          },
          "execution_count": 4,
          "metadata": {},
          "output_type": "execute_result"
        }
      ],
      "source": [
        "# Define matrix A_1\n",
        "A_1 = A.copy() # Copy matrix A\n",
        "A_1[:, 0] = b # Replace the first column of A with vector b\n",
        "A_1 # Check if the replacement was successful"
      ]
    },
    {
      "cell_type": "code",
      "execution_count": null,
      "metadata": {
        "id": "QWTaLd90Pt-g",
        "outputId": "d1215984-2c17-4cd6-a3fb-9f170e0fc2bd"
      },
      "outputs": [
        {
          "data": {
            "text/latex": [
              "$\\displaystyle -4$"
            ],
            "text/plain": [
              "-4"
            ]
          },
          "execution_count": 5,
          "metadata": {},
          "output_type": "execute_result"
        }
      ],
      "source": [
        "det_A_1 = A_1.det() # Calculate determinant of A_1\n",
        "sol_x = det_A_1 / A.det() # Calculate x_1\n",
        "sol_x # Calculated value of x_1"
      ]
    },
    {
      "cell_type": "code",
      "execution_count": null,
      "metadata": {
        "id": "06HxAPU_Pt-g",
        "outputId": "662df0ad-d971-4fb9-a786-7242feff3449"
      },
      "outputs": [
        {
          "data": {
            "text/latex": [
              "$\\displaystyle \\left[\\begin{matrix}2 & 1 & 1\\\\3 & 2 & 2\\\\1 & 3 & 1\\end{matrix}\\right]$"
            ],
            "text/plain": [
              "Matrix([\n",
              "[2, 1, 1],\n",
              "[3, 2, 2],\n",
              "[1, 3, 1]])"
            ]
          },
          "execution_count": 6,
          "metadata": {},
          "output_type": "execute_result"
        }
      ],
      "source": [
        "# Similarly for y\n",
        "A_2 = A.copy()\n",
        "A_2[:, 1] = b\n",
        "A_2 # Check if the replacement was successful"
      ]
    },
    {
      "cell_type": "code",
      "execution_count": null,
      "metadata": {
        "id": "-hUMbYB1Pt-g",
        "outputId": "f3abc9d5-fe10-432d-a0ab-4947cda29808"
      },
      "outputs": [
        {
          "data": {
            "text/latex": [
              "$\\displaystyle 1$"
            ],
            "text/plain": [
              "1"
            ]
          },
          "execution_count": 7,
          "metadata": {},
          "output_type": "execute_result"
        }
      ],
      "source": [
        "det_A_2 = A_2.det()\n",
        "sol_y = det_A_2 / A.det()\n",
        "sol_y"
      ]
    },
    {
      "cell_type": "code",
      "execution_count": null,
      "metadata": {
        "id": "2X6C_A59Pt-g",
        "outputId": "5b895f9b-5ec1-4681-969c-5141ba95182c"
      },
      "outputs": [
        {
          "data": {
            "text/latex": [
              "$\\displaystyle 6$"
            ],
            "text/plain": [
              "6"
            ]
          },
          "execution_count": 8,
          "metadata": {},
          "output_type": "execute_result"
        }
      ],
      "source": [
        "# Finally for z\n",
        "A_3 = A.copy()\n",
        "A_3[:, 2] = b\n",
        "det_A_3 = A_3.det()\n",
        "sol_z = det_A_3 / A.det()\n",
        "sol_z"
      ]
    },
    {
      "cell_type": "code",
      "execution_count": null,
      "metadata": {
        "id": "qK1HLsAsPt-h",
        "outputId": "edb3944b-41bc-45ab-a2df-cc5dbee2199e"
      },
      "outputs": [
        {
          "data": {
            "text/plain": [
              "{x: -4, y: 1, z: 6}"
            ]
          },
          "execution_count": 9,
          "metadata": {},
          "output_type": "execute_result"
        }
      ],
      "source": [
        "# Solve the system of equations\n",
        "sp.solve((eq1, eq2, eq3), (x, y, z))"
      ]
    },
    {
      "cell_type": "markdown",
      "metadata": {
        "id": "TC6EM9dpPt-h"
      },
      "source": [
        "---\n",
        "\n",
        "## Exercises for Students\n",
        "\n",
        "1. Solve the system of equations:\n",
        "   $$\n",
        "   \\begin{cases}\n",
        "   2x_1 - 3x_2 = 7 \\\\\n",
        "   3x_1 + 5x_2 = 2\n",
        "   \\end{cases}\n",
        "   $$\n",
        "\n",
        "2. Solve the system of equations:\n",
        "   $$\n",
        "   \\begin{cases}\n",
        "   2x + y - z = 1 \\\\\n",
        "   x - y + 2z = 4 \\\\\n",
        "   3x - 2z = -1\n",
        "   \\end{cases}\n",
        "   $$\n",
        "\n",
        "3. Solve the system of equations:\n",
        "   $$\n",
        "   \\begin{cases}\n",
        "   x + y + z - t = 2 \\\\\n",
        "   x - z + 2t = 6 \\\\\n",
        "   2x - 3y + t = 4 \\\\\n",
        "   3x + y + 3z - 4t = -2\n",
        "   \\end{cases}\n",
        "   $$\n",
        "\n",
        "4. Why can't the following system of equations be solved using Cramer's rule?\n",
        "$$\n",
        "\\begin{cases}\n",
        "x_1 + 2x_2 + 3x_3 = 3 \\\\\n",
        "4x_1 + 5x_2 + 6x_3 = 2 \\\\\n",
        "7x_1 + 8x_2 + 9x_3 = 1\n",
        "\\end{cases}\n",
        "$$"
      ]
    },
    {
      "cell_type": "markdown",
      "source": [
        "# ***Homework***\n",
        "## **Exercise 1**\n",
        "$\n",
        "   \\begin{cases}\n",
        "   2x_1 - 3x_2 = 7 \\\\\n",
        "   3x_1 + 5x_2 = 2\n",
        "   \\end{cases}\n",
        "$\n",
        "\n",
        "Let's imagine the system of equations as matrices:\n",
        "\n",
        "$\\begin{bmatrix} 2 & -3\\\\ 3 & 5\\end{bmatrix}\\cdot \\begin{bmatrix} x \\\\ y\\end{bmatrix}=\\begin{bmatrix} 7 \\\\ 2\\end{bmatrix}$\n",
        "\n",
        "$A\\cdot X= C$\n",
        "\n",
        "$A^{-1}\\cdot A\\cdot X=A^{-1}\\cdot C$\n",
        "\n",
        "$X=A^{-1}\\cdot C$\n",
        "\n",
        "$A=\\begin{bmatrix} 2 & -3\\\\ 3 & 5\\end{bmatrix}$ ; $A^{-1}=\\frac{1}{detA}\\cdot \\begin{bmatrix} 5 & 3 \\\\ -3 & 2\\end{bmatrix}$\n",
        "\n",
        "$\\mathbf{det}A=2\\cdot 5 - (-3)\\cdot 3=10+9=19$\n",
        "\n",
        "$A^{-1}=\\frac{1}{19}\\cdot \\begin{bmatrix} 5 & 3 \\\\ -3 & 2\\end{bmatrix}=\\begin{bmatrix} \\frac{5}{19} & \\frac{3}{19} \\\\ \\frac{-3}{19} & \\frac{2}{19}\\end{bmatrix}$\n",
        "\n",
        "$X=\\begin{bmatrix} \\frac{5}{19} & \\frac{3}{19} \\\\ \\frac{-3}{19} & \\frac{2}{19}\\end{bmatrix}\\cdot \\begin{bmatrix}7 \\\\ 2\\end{bmatrix}=\\begin{bmatrix}\\frac{5}{19}\\cdot 7+ \\frac{3}{19}\\cdot 2 \\\\ \\frac{-3}{19}\\cdot 7+ \\frac{2}{19}\\cdot 2\\end{bmatrix}=\\begin{bmatrix} \\frac{35}{19} + \\frac{6}{19} \\\\ \\frac{-21}{19}+ \\frac{4}{19}\\end{bmatrix}=\\begin{bmatrix} \\frac{41}{19} \\\\ \\frac{-17}{19}\\end{bmatrix}$\n",
        "\n",
        "$x=\\frac{41}{19}, y=\\frac{-17}{19}$\n",
        "\n",
        "##**Exercise 2**\n",
        "$\n",
        "   \\begin{cases}\n",
        "   2x + y - z = 1 \\\\\n",
        "   x - y + 2z = 4 \\\\\n",
        "   3x - 2z = -1\n",
        "   \\end{cases}\n",
        "$\n",
        "\n",
        "Let's imagine the system of equations as matrices:\n",
        "\n",
        "$\\begin{bmatrix} 2 & 1 & -1 \\\\ 1 & -1 & 2 \\\\ 3 & 0 & -2\\end{bmatrix}\\cdot \\begin{bmatrix} x \\\\ y \\\\ z\\end{bmatrix}= \\begin{bmatrix} 1 \\\\ 4 \\\\ -1\\end{bmatrix}$\n",
        "\n",
        "$A\\cdot X= C$\n",
        "\n",
        "$A^{-1}\\cdot A\\cdot X=A^{-1}\\cdot C$\n",
        "\n",
        "$X=A^{-1}\\cdot C$\n",
        "\n",
        "$\\mathbf{det}(A)=3\\cdot \\begin{bmatrix} 1 & -1 \\\\ -1 & 2\\end{bmatrix} - 0 + (-2)\\cdot \\begin{bmatrix} 2 & 1 \\\\ 1 & -1\\end{bmatrix}=3+6=9$\n",
        "\n",
        "$\\begin{bmatrix}\n",
        "  +\\begin{bmatrix} -1 & 2 \\\\ 0 & -2\\end{bmatrix} & -\\begin{bmatrix}1 & 2 \\\\ 3 & -2\\end{bmatrix} & +\\begin{bmatrix} 1 & -1 \\\\ 3 & 0\\end{bmatrix} \\\\ -\\begin{bmatrix} 1 & -1 \\\\ 0 & -2\\end{bmatrix} & +\\begin{bmatrix} 2 & -1 \\\\ 3 & -2\\end{bmatrix} & -\\begin{bmatrix} 2 & 1 \\\\ 3 & 0\\end{bmatrix} \\\\ +\\begin{bmatrix} 1 & -1 \\\\ -1 & 2\\end{bmatrix} & -\\begin{bmatrix} 2 & -1 \\\\ 1 & 2\\end{bmatrix} & +\\begin{bmatrix} 2 & 1 \\\\ 1 & -1\\end{bmatrix}\\end{bmatrix}^T=\\begin{bmatrix} 2 & 8 & 3 \\\\ 2 & -1 & 3 \\\\ 1 & -5 & -3\\end{bmatrix}^T=\\begin{bmatrix} 2 & 2 & 1 \\\\ 8 & -1 & -5 \\\\ 3 & 3 & -3\\end{bmatrix}\n",
        "$\n",
        "\n",
        "$A^{-1}=\\frac{1}{9}\\cdot \\begin{bmatrix}  2 & 2 & 1 \\\\ 8 & -1 & -5 \\\\ 3 & 3 & -3\\end{bmatrix}=\\begin{bmatrix} \\frac{2}{9} & \\frac{2}{9} & \\frac{1}{9} \\\\ \\frac{8}{9} & \\frac{-1}{9} & \\frac{-5}{9} \\\\ \\frac{3}{9} & \\frac{3}{9} & \\frac{-3}{9}\\end{bmatrix}$\n",
        "\n",
        "$X=\\begin{bmatrix} \\frac{2}{9} & \\frac{2}{9} & \\frac{1}{9} \\\\ \\frac{8}{9} & \\frac{-1}{9} & \\frac{-5}{9} \\\\ \\frac{3}{9} & \\frac{3}{9} & \\frac{-3}{9}\\end{bmatrix}\\cdot \\begin{bmatrix} 1 \\\\ 4 \\\\ -1\\end{bmatrix}=\\begin{bmatrix} \\frac{2}{9} + \\frac{8}{9} + (-\\frac{1}{9}) \\\\ \\frac{8}{9} + (-\\frac{4}{9}) + \\frac{5}{9} \\\\ \\frac{3}{9} + \\frac{12}{9} + \\frac{3}{9}\\end{bmatrix}=\\begin{bmatrix} 1 \\\\ 1 \\\\ 2\\end{bmatrix}\n",
        "$\n",
        "\n",
        "$x=1, y=1, z=2$\n",
        "\n",
        "##**Exercise 3**\n",
        " $\n",
        "   \\begin{cases}\n",
        "   x + y + z - t = 2 \\\\\n",
        "   x - z + 2t = 6 \\\\\n",
        "   2x - 3y + t = 4 \\\\\n",
        "   3x + y + 3z - 4t = -2\n",
        "   \\end{cases}\n",
        "$\n",
        "\n",
        "Let's imagine the system of equations as matrices:\n",
        "\n",
        "$\\begin{bmatrix} 1 & 1 & 1 & -1 &| 2 \\\\ 1 & 0 & -1 & 2 &|6 \\\\ 2 & -3 & 0 & 1 &|4 \\\\ 3 & 1 & 3 & -4 &| -2\\end{bmatrix}$\n",
        "\n",
        "Using Gaussian elimination:\n",
        "\n",
        "$1. R2=R2 - R1$\n",
        "\n",
        "$\\begin{bmatrix} 1 & 1 & 1 & -1 &|2 \\\\ 0 & -1 & -2 & 3 &|4 \\\\ 2 & -3 & 0 & 1 &|4 \\\\ 3 & 1 & 3 & -4 &|-2\\end{bmatrix}$\n",
        "\n",
        "$2.R3=R3-2R1$\n",
        "\n",
        "$\\begin{bmatrix} 1 & 1 & 1 & -1 &| 2 \\\\ 0 & -1 & -2 & 3 &|4 \\\\ 0 & -5 & -2 & 3 &|0 \\\\ 3 & 1 & 3 & -4 &|-2\\end{bmatrix}$\n",
        "\n",
        "$3.R4=R4-3R1$\n",
        "\n",
        "$\\begin{bmatrix} 1 & 1 & 1 & -1 &| 2 \\\\ 0 & -1 & -2 & 3 &|4 \\\\ 0 & -5 & -2 & 3 &|0 \\\\ 0 & -2 & 0 & -1 &|-8\\end{bmatrix}$\n",
        "\n",
        "$4.R2=R2\\cdot (-1)$\n",
        "\n",
        "$\\begin{bmatrix} 1 & 1 & 1 & -1 &| 2 \\\\ 0 & 1 & 2 & -3 &|-4 \\\\ 0 & -5 & -2 & 3 &|0 \\\\ 0 & -2 & 0 & -1 &|-8\\end{bmatrix}$\n",
        "\n",
        "$R3=R3+5R2$\n",
        "\n",
        "$\\begin{bmatrix} 1 & 1 & 1 & -1 &| 2 \\\\ 0 & 1 & 2 & -3 &|-4 \\\\ 0 & 0 & 8 & -12 &|-20 \\\\ 0 & -2 & 0 & -1 &|-8\\end{bmatrix}$\n",
        "\n",
        "$R4=R4+2R2$\n",
        "\n",
        "$\\begin{bmatrix} 1 & 1 & 1 & -1 &| 2 \\\\ 0 & 1 & 2 & -3 &|-4 \\\\ 0 & 0 & 8 & -12 &|-20 \\\\ 0 & 0 & 4 & -7 &|-16\\end{bmatrix}$\n",
        "\n",
        "$R4=R4-\\frac{1}{2}R3$\n",
        "\n",
        "$\\begin{bmatrix} 1 & 1 & 1 & -1 &| 2 \\\\ 0 & 1 & 2 & -3 &|-4 \\\\ 0 & 0 & 8 & -12 &|-20 \\\\ 0 & 0 & 0 & -1 &|-6\\end{bmatrix}$\n",
        "\n",
        "1)$-1t=-6$\n",
        "\n",
        "$t=6$\n",
        "\n",
        "2)$8z-12t=-20$\n",
        "\n",
        "$8z-12\\cdot 6=-20$\n",
        "\n",
        "$8z-72=-20$\n",
        "\n",
        "$z=6.5$\n",
        "\n",
        "3)$y+2z-3t=-4$\n",
        "\n",
        "$y+13-18=-4$\n",
        "\n",
        "$y=1$\n",
        "\n",
        "4)$x+y+z-t=2$\n",
        "\n",
        "$x+1+6.5-6=2$\n",
        "\n",
        "$x=0.5$\n",
        "\n",
        "$x=0.5, y=1, z=6.5, t=6$\n",
        "\n",
        "##**Exercise4**\n",
        "$\n",
        "\\begin{cases}\n",
        "x_1 + 2x_2 + 3x_3 = 3 \\\\\n",
        "4x_1 + 5x_2 + 6x_3 = 2 \\\\\n",
        "7x_1 + 8x_2 + 9x_3 = 1\n",
        "\\end{cases}\n",
        "$\n",
        "\n",
        "$\\begin{bmatrix} 1 & 2 & 3 \\\\ 4 & 5 & 6 \\\\ 7 & 8 & 9\\end{bmatrix}$\n",
        "\n",
        "The determinant to this coefficiant matrix is equal to 0, which means we can't apply Cramer's rule"
      ],
      "metadata": {
        "id": "QALziuSBP4eq"
      }
    },
    {
      "cell_type": "code",
      "source": [
        "import numpy as np\n",
        "\n",
        "# Define matrix A\n",
        "A = np.array([[2, -3], [3, 5]])\n",
        "\n",
        "# Define matrix C\n",
        "C = np.array([7, 2])\n",
        "\n",
        "# Calculate the determinant of A\n",
        "det_A = np.linalg.det(A)\n",
        "\n",
        "# Calculate the inverse of A\n",
        "A_inv = np.linalg.inv(A)\n",
        "\n",
        "# Calculate X\n",
        "X = np.dot(A_inv, C)\n",
        "\n",
        "# Print the solution\n",
        "print(\"Solution:\")\n",
        "print(\"x =\", X[0])\n",
        "print(\"y =\", X[1])\n",
        "import numpy as np\n",
        "\n",
        "# Define the matrix\n",
        "X_matrix = np.array([[5/19, 3/19], [-3/19, 2/19]])\n",
        "\n",
        "# Define the vector\n",
        "vector = np.array([7, 2])\n",
        "\n",
        "# Calculate the result\n",
        "result = np.dot(X_matrix, vector)\n",
        "\n",
        "# Extract x and y\n",
        "x = result[0]\n",
        "y = result[1]\n",
        "\n",
        "# Print the values\n",
        "print(\"x =\", x)\n",
        "print(\"y =\", y)"
      ],
      "metadata": {
        "id": "EesoSx-tXLEf",
        "outputId": "ad79e339-63b1-4a26-b34f-c01211d855cf",
        "colab": {
          "base_uri": "https://localhost:8080/"
        }
      },
      "execution_count": null,
      "outputs": [
        {
          "output_type": "stream",
          "name": "stdout",
          "text": [
            "Solution:\n",
            "x = 2.1578947368421053\n",
            "y = -0.8947368421052633\n",
            "x = 2.1578947368421053\n",
            "y = -0.894736842105263\n"
          ]
        }
      ]
    },
    {
      "cell_type": "code",
      "source": [
        "import numpy as np\n",
        "\n",
        "# Define the coefficient matrix A\n",
        "A = np.array([[2, 1, -1],\n",
        "              [1, -1, 2],\n",
        "              [3, 0, -2]])\n",
        "\n",
        "# Define the constant vector b\n",
        "b = np.array([1, 4, -1])\n",
        "\n",
        "# Solve for x, y, z using numpy.linalg.solve\n",
        "x, y, z = np.linalg.solve(A, b)\n",
        "\n",
        "# Print the solution\n",
        "print(\"x =\", x)\n",
        "print(\"y =\", y)\n",
        "print(\"z =\", z)"
      ],
      "metadata": {
        "id": "LwttwCCYjZJ2",
        "outputId": "6abdc7ca-b624-4383-a6e2-b39b439bdf67",
        "colab": {
          "base_uri": "https://localhost:8080/"
        }
      },
      "execution_count": null,
      "outputs": [
        {
          "output_type": "stream",
          "name": "stdout",
          "text": [
            "x = 1.0\n",
            "y = 1.0\n",
            "z = 2.0\n"
          ]
        }
      ]
    },
    {
      "cell_type": "code",
      "source": [
        "import numpy as np\n",
        "\n",
        "# Define the augmented matrix\n",
        "augmented_matrix = np.array([[1, 1, 1, -1, 2],\n",
        "                             [1, 0, -1, 2, 6],\n",
        "                             [2, -3, 0, 1, 4],\n",
        "                             [3, 1, 3, -4, -2]])\n",
        "\n",
        "# Perform Gaussian elimination\n",
        "# 1. R2 - R1\n",
        "augmented_matrix[1] = augmented_matrix[1] - augmented_matrix[0]\n",
        "\n",
        "# 2. R3 - 2R1\n",
        "augmented_matrix[2] = augmented_matrix[2] - 2 * augmented_matrix[0]\n",
        "\n",
        "# 3. R4 - 3R1\n",
        "augmented_matrix[3] = augmented_matrix[3] - 3 * augmented_matrix[0]\n",
        "\n",
        "# 4. -R2\n",
        "augmented_matrix[1] = -augmented_matrix[1]\n",
        "\n",
        "# 5. R3 + 5R2\n",
        "augmented_matrix[2] = augmented_matrix[2] + 5 * augmented_matrix[1]\n",
        "\n",
        "# 6. R4 + 2R2\n",
        "augmented_matrix[3] = augmented_matrix[3] + 2 * augmented_matrix[1]\n",
        "\n",
        "# 7. R4 - (1/2)R3\n",
        "augmented_matrix[3] = augmented_matrix[3] - 0.5 * augmented_matrix[2]\n",
        "\n",
        "# Back substitution\n",
        "t = augmented_matrix[3, 4] / augmented_matrix[3, 3]\n",
        "z = (augmented_matrix[2, 4] - augmented_matrix[2, 3] * t) / augmented_matrix[2, 2]\n",
        "y = (augmented_matrix[1, 4] - augmented_matrix[1, 2] * z - augmented_matrix[1, 3] * t) / augmented_matrix[1, 1]\n",
        "x = (augmented_matrix[0, 4] - augmented_matrix[0, 1] * y - augmented_matrix[0, 2] * z - augmented_matrix[0, 3] * t) / augmented_matrix[0, 0]\n",
        "\n",
        "# Print the solution\n",
        "print(\"x =\", x)\n",
        "print(\"y =\", y)\n",
        "print(\"z =\", z)\n",
        "print(\"t =\", t)"
      ],
      "metadata": {
        "id": "4X9v3lAp5oT2",
        "outputId": "973c6fee-1c1b-4b2a-f8d5-e77e5a65600b",
        "colab": {
          "base_uri": "https://localhost:8080/"
        }
      },
      "execution_count": null,
      "outputs": [
        {
          "output_type": "stream",
          "name": "stdout",
          "text": [
            "x = 0.5\n",
            "y = 1.0\n",
            "z = 6.5\n",
            "t = 6.0\n"
          ]
        }
      ]
    },
    {
      "cell_type": "code",
      "source": [
        "import numpy as np\n",
        "\n",
        "# Define the coefficient matrix\n",
        "A = np.array([[1, 2, 3],\n",
        "              [4, 5, 6],\n",
        "              [7, 8, 9]])\n",
        "\n",
        "# Calculate the determinant\n",
        "det_A = np.linalg.det(A)\n",
        "\n",
        "# Print the determinant\n",
        "print(\"Determinant of A:\", det_A)  # Output: 0.0"
      ],
      "metadata": {
        "id": "pD_bSpsf66eM",
        "outputId": "d467212b-838f-426f-898d-3551ee6ae8ce",
        "colab": {
          "base_uri": "https://localhost:8080/"
        }
      },
      "execution_count": null,
      "outputs": [
        {
          "output_type": "stream",
          "name": "stdout",
          "text": [
            "Determinant of A: 0.0\n"
          ]
        }
      ]
    }
  ],
  "metadata": {
    "kernelspec": {
      "display_name": "Python 3",
      "language": "python",
      "name": "python3"
    },
    "language_info": {
      "codemirror_mode": {
        "name": "ipython",
        "version": 3
      },
      "file_extension": ".py",
      "mimetype": "text/x-python",
      "name": "python",
      "nbconvert_exporter": "python",
      "pygments_lexer": "ipython3",
      "version": "3.11.9"
    },
    "colab": {
      "provenance": [],
      "include_colab_link": true
    }
  },
  "nbformat": 4,
  "nbformat_minor": 0
}