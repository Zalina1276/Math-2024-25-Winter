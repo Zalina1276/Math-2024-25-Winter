{
  "cells": [
    {
      "cell_type": "markdown",
      "metadata": {
        "id": "view-in-github",
        "colab_type": "text"
      },
      "source": [
        "<a href=\"https://colab.research.google.com/github/Zalina1276/Math-2024-25-Winter/blob/main/Notebooks_EN/03_Mathematical_Analysis/10_Sequences/Sequences.ipynb\" target=\"_parent\"><img src=\"https://colab.research.google.com/assets/colab-badge.svg\" alt=\"Open In Colab\"/></a>"
      ]
    },
    {
      "cell_type": "markdown",
      "metadata": {
        "id": "jehoUPotxJ91"
      },
      "source": [
        "Limits of Sequences\n",
        "\n",
        "1. Calculate:\n",
        "   - $\\displaystyle \\lim_{n \\to \\infty} \\frac{n^2 + 3n}{2 n^2 - 2n}$\n",
        "\n",
        "   - $\\displaystyle \\lim_{n \\to \\infty} \\frac{(2n+3)^3}{n^3-1}$\n",
        "\n",
        "2. Prove using the squeeze theorem:\n",
        "   - $\\displaystyle\\lim_{n \\to \\infty} \\frac{\\sin(n)}{n}$\n",
        "\n",
        "4. Find the limit of the sequence:\n",
        "   - $a_n = (1+\\frac{1}{n})^n$\n"
      ],
      "id": "jehoUPotxJ91"
    },
    {
      "cell_type": "markdown",
      "source": [
        "# ***Homework***\n",
        "## **Exercise 1**\n",
        "- $\\displaystyle \\lim_{n \\to \\infty} \\frac{n^2 + 3n}{2 n^2 - 2n}$\n",
        "\n",
        "1) $\n",
        "\\frac{n^2 + 3n}{2n^2 - 2n} = \\frac{\\frac{n^2}{n^2} + \\frac{3n}{n^2}}{\\frac{2n^2}{n^2} - \\frac{2n}{n^2}}\n",
        "$ = $\\frac{1 + \\frac{3}{n}}{2 - \\frac{2}{n}}$\n",
        "\n",
        "\n",
        "\n",
        "2) As $n \\to \\infty$, the terms $\\frac{3}{n} \\to 0$ and $\\frac{2}{n} \\to 0$, leaving:\n",
        "\n",
        "$\n",
        "\\frac{1 + 0}{2 - 0} = \\frac{1}{2}\n",
        "$\n",
        "\n",
        "### Final Answer:\n",
        "\n",
        "$\n",
        "\\displaystyle \\lim_{n \\to \\infty} \\frac{n^2 + 3n}{2n^2 - 2n} = \\frac{1}{2}\n",
        "$\n",
        "\n",
        "- $\\displaystyle \\lim_{n \\to \\infty} \\frac{(2n+3)^3}{n^3-1}$\n",
        "\n",
        "\n",
        "$1) (2n+3)^3 = 8n^3 + 12n^2 \\cdot 3 + 6n \\cdot 9 + 27 = 8n^3 + 36n^2 + 54n + 27$\n",
        "\n",
        "So the limit becomes:\n",
        "\n",
        "$\\displaystyle \\lim_{n \\to \\infty} \\frac{8n^3 + 36n^2 + 54n + 27}{n^3 - 1}$\n",
        "\n",
        "$2)\\frac{8n^3 + 36n^2 + 54n + 27}{n^3 - 1} = \\frac{\\frac{8n^3}{n^3} + \\frac{36n^2}{n^3} + \\frac{54n}{n^3} + \\frac{27}{n^3}}{\\frac{n^3}{n^3} - \\frac{1}{n^3}}=\n",
        "\\frac{8 + \\frac{36}{n} + \\frac{54}{n^2} + \\frac{27}{n^3}}{1 - \\frac{1}{n^3}}$\n",
        "\n",
        "3)As $n \\to \\infty$, all terms with $n$ in the denominator approach zero, leaving:\n",
        "\n",
        "$\\frac{8 + 0 + 0 + 0}{1 - 0} = 8$\n",
        "\n",
        "### Final Answer:\n",
        "$\\displaystyle \\lim_{n \\to \\infty} \\frac{(2n+3)^3}{n^3-1} = 8$\n",
        "\n",
        "## **Exercise 2**\n",
        "- $\\displaystyle \\lim_{n \\to ∞} \\frac{sin(n)}{n}$\n",
        "\n",
        "###1) Establish bounds for $\\sin(n)$\n",
        "Since $\\sin(n)$ is bounded between -1 and 1 for all real \\(n\\), we have:\n",
        "\n",
        "$-1 \\leq \\sin(n) \\leq 1$\n",
        "\n",
        "### 2) Divide the inequality by $n$\n",
        "Since $n > 0$ for large $n$, divide the entire inequality by $n$\n",
        "\n",
        "$-\\frac{1}{n} \\leq \\frac{\\sin(n)}{n} \\leq \\frac{1}{n}$\n",
        "\n",
        "### 3) Take the Limit of the Bounding Functions\n",
        "$\\lim_{n \\to \\infty} -\\frac{1}{n} = 0$\n",
        "\n",
        "$\\lim_{n \\to \\infty} \\frac{1}{n} = 0$\n",
        "\n",
        "### 4) Apply the Squeeze Theorem\n",
        "Since:\n",
        "\n",
        "$-\\frac{1}{n} \\leq \\frac{\\sin(n)}{n} \\leq \\frac{1}{n}$, then:\n",
        "\n",
        "$\\lim_{n \\to \\infty} \\frac{\\sin(n)}{n} = 0$\n",
        "\n",
        "## **Exercise 3**\n",
        "- $a_{n}=(1+ \\frac{1}{n})^n$\n",
        "\n",
        "We know from the exponential limit definition that:\n",
        "\n",
        "$$\n",
        "\\displaystyle \\lim_{n \\to \\infty} \\left( 1 + \\frac{1}{n} \\right)^n = e\n",
        "$$\n",
        "\n",
        "which means that:\n",
        "\n",
        "$\n",
        "\\displaystyle \\lim_{n \\to \\infty} a_n = e\n",
        "$\n"
      ],
      "metadata": {
        "id": "Co4Oa6USTw7Z"
      },
      "id": "Co4Oa6USTw7Z"
    }
  ],
  "metadata": {
    "colab": {
      "provenance": [],
      "include_colab_link": true
    },
    "language_info": {
      "name": "python"
    },
    "kernelspec": {
      "name": "python3",
      "display_name": "Python 3"
    }
  },
  "nbformat": 4,
  "nbformat_minor": 5
}