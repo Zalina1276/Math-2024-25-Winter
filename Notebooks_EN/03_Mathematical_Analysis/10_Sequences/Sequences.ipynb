{
  "cells": [
    {
      "cell_type": "markdown",
      "metadata": {
        "id": "view-in-github",
        "colab_type": "text"
      },
      "source": [
        "<a href=\"https://colab.research.google.com/github/Zalina1276/Math-2024-25-Winter/blob/main/Notebooks_EN/03_Mathematical_Analysis/10_Sequences/Sequences.ipynb\" target=\"_parent\"><img src=\"https://colab.research.google.com/assets/colab-badge.svg\" alt=\"Open In Colab\"/></a>"
      ]
    },
    {
      "cell_type": "markdown",
      "metadata": {
        "id": "jehoUPotxJ91"
      },
      "source": [],
      "id": "jehoUPotxJ91"
    },
    {
      "cell_type": "markdown",
      "source": [],
      "metadata": {
        "id": "Co4Oa6USTw7Z"
      },
      "id": "Co4Oa6USTw7Z"
    },
    {
      "cell_type": "markdown",
      "source": [],
      "metadata": {
        "id": "0EZtQ2_8wyFB"
      },
      "id": "0EZtQ2_8wyFB"
    }
  ],
  "metadata": {
    "colab": {
      "provenance": [],
      "include_colab_link": true
    },
    "language_info": {
      "name": "python"
    },
    "kernelspec": {
      "name": "python3",
      "display_name": "Python 3"
    }
  },
  "nbformat": 4,
  "nbformat_minor": 5
}