{
  "cells": [
    {
      "cell_type": "markdown",
      "metadata": {
        "id": "view-in-github",
        "colab_type": "text"
      },
      "source": [
        "<a href=\"https://colab.research.google.com/github/Zalina1276/Math-2024-25-Winter/blob/main/Notebooks_EN/03_Mathematical_Analysis/11_Functions/Limits_of_Real_Functions.ipynb\" target=\"_parent\"><img src=\"https://colab.research.google.com/assets/colab-badge.svg\" alt=\"Open In Colab\"/></a>"
      ]
    },
    {
      "cell_type": "markdown",
      "metadata": {
        "id": "jehoUPotxJ91"
      },
      "source": [
        "# **20. Limits of Real Functions**\n",
        "\n",
        "1. Compute:\n",
        "   - $\\displaystyle\\lim_{x \\to \\infty} \\frac{x^3 + 2x^2}{x^4 - 3x^3}$\n",
        "\n",
        "2. Find:\n",
        "   \n",
        "   - $\\displaystyle \\lim_{x \\to 0} \\frac{\\sin(3x)}{2x+1}$.\n",
        "\n",
        "4. Find the asymptotes of the function:\n",
        "  \n",
        "   - $f(x) = \\frac{x^2 - 1}{x^2 + 1}$\n",
        "   - $g(x) = \\frac{\\sin(x)}{x^2+1}$\n"
      ],
      "id": "jehoUPotxJ91"
    },
    {
      "cell_type": "markdown",
      "source": [
        "# ***Homework***\n",
        "## **Exercise 1**\n",
        "- $\\displaystyle \\lim_{x \\to \\infty} \\frac{x^3 + 2x^2}{x^4 -3x^3}$\n",
        "\n",
        "1) $\n",
        "\\frac{x^3 + 2x^2}{x^4 -3x^3} = \\frac{\\frac{x^3}{x^4} + \\frac{2x^2}{x^4}}{\\frac{x^4}{x^4} - \\frac{3x^3}{x^4}}= \\frac{\\frac{1}{x} + \\frac{2}{x^2}}{1 - \\frac{3}{x}}\n",
        "$\n",
        "\n",
        "\n",
        "2) As $x \\to \\infty$, the terms $\\frac{1}{x} \\to 0$, $\\frac{2}{x^2} \\to 0$, $\\frac{3}{x} \\to 0$ leaving:\n",
        "\n",
        "$\\frac{0 + 0}{1 - 0} = 0$\n",
        "\n",
        "### Final Answer:\n",
        "\n",
        "$\\displaystyle \\lim_{x \\to \\infty} \\frac{x^3 + 2x^2}{x^4 -3x^3} = 0$\n",
        "\n",
        "## **Exercise 2**\n",
        "- $\\displaystyle \\lim_{x \\to 0} \\frac{\\sin(3x)}{2x+1}$\n",
        "\n",
        "### Substitute $x = 0$\n",
        "$\\frac{\\sin(0)}{2(0)+1} = \\frac{0}{1} = 0$\n",
        "\n",
        "$\\displaystyle \\lim_{x \\to 0} \\frac{\\sin(3x)}{2x+1} = 0$\n",
        "\n",
        "## **Exercise 3**\n",
        "- $f(x)= \\frac{x^2-1}{x^2+1}$\n",
        "\n",
        "To find the asymptotes of the function we need to check for two types of asymptotes:\n",
        "\n",
        "1. **Vertical asymptotes**: Occur where the denominator is zero but the numerator is not zero.\n",
        "2. **Horizontal asymptotes**: Occur where the function approaches a finite value as $ x \\to \\infty$  or $x \\to -\\infty $.\n",
        "\n",
        "### Step 1: Check for vertical asymptotes\n",
        "$x^2 + 1 = 0$\n",
        "\n",
        "$x^2=-1$\n",
        "\n",
        "This equation has no real solutions. Therefore, there are **no vertical asymptotes**.\n",
        "\n",
        "### Step 2: Check for horizontal asymptotes\n",
        "$f(x) = \\frac{x^2 - 1}{x^2 + 1} = \\frac{1 - \\frac{1}{x^2}}{1 + \\frac{1}{x^2}}$\n",
        "\n",
        "As $ x \\to \\infty $ or $ x \\to -\\infty $, the terms $ \\frac{1}{x^2} \\to 0$\n",
        "\n",
        "$f(x) \\to \\frac{1 - 0}{1 + 0} = 1$\n",
        "\n",
        "Therefore, there is a **horizontal asymptote** at $ y = 1 $.\n",
        "\n",
        "### Conclusion:\n",
        " **Vertical asymptotes**: None\n",
        "\n",
        " **Horizontal asymptote**: $ y = 1 $\n",
        "\n",
        " - $g(x)= \\frac{\\sin(x)}{x^2+1}$\n",
        "\n",
        "### Vertical asymptote\n",
        "$x^2+1=0$\n",
        "\n",
        "$x^2=-1$\n",
        "\n",
        "**No vertical asymptote**\n",
        "\n",
        "### Horizontal asymptote\n",
        "\n",
        "Since:\n",
        "\n",
        "$-1 \\leq \\sin(x) \\leq 1$,\n",
        "\n",
        "$-\\frac{1}{x^2+1} \\leq \\frac{\\sin(x)}{x^2+1} \\leq \\frac{1}{x^2+1}$,\n",
        "\n",
        "Using Squeeze Theorem:\n",
        "\n",
        "$\\displaystyle \\lim_{x \\to ∞} \\frac{\\sin(x)}{x^2+1}=0$\n",
        "\n",
        "$a= \\displaystyle \\lim_{x \\to \\infty} \\frac{f(x)}{x}= \\frac{0}{x} = 0$\n",
        "\n",
        "With $x \\to ∞$, $ \\frac{0}{x}=0$\n",
        "\n",
        "$b= \\displaystyle \\lim_{x \\to \\infty}(f(x)-ax)= 0$\n",
        "\n",
        "This means, **horizontal asymptote at y=0**\n",
        "### Conclusion\n",
        " **No vertical asymptote**\n",
        "\n",
        " **Horizontal asymptote at y=0**\n"
      ],
      "metadata": {
        "id": "Co4Oa6USTw7Z"
      },
      "id": "Co4Oa6USTw7Z"
    }
  ],
  "metadata": {
    "colab": {
      "provenance": [],
      "include_colab_link": true
    },
    "language_info": {
      "name": "python"
    },
    "kernelspec": {
      "name": "python3",
      "display_name": "Python 3"
    }
  },
  "nbformat": 4,
  "nbformat_minor": 5
}