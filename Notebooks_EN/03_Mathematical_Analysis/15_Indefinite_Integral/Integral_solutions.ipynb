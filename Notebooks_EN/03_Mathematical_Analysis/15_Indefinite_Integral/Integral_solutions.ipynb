{
  "cells": [
    {
      "cell_type": "markdown",
      "metadata": {
        "id": "view-in-github",
        "colab_type": "text"
      },
      "source": [
        "<a href=\"https://colab.research.google.com/github/Zalina1276/Math-2024-25-Winter/blob/main/Notebooks_EN/03_Mathematical_Analysis/15_Indefinite_Integral/Integral_solutions.ipynb\" target=\"_parent\"><img src=\"https://colab.research.google.com/assets/colab-badge.svg\" alt=\"Open In Colab\"/></a>"
      ]
    },
    {
      "cell_type": "markdown",
      "metadata": {
        "id": "8hOwZRmppZdA"
      },
      "source": [
        "# **24. Integrals**\n",
        "\n",
        "1. Compute:\n",
        "   - $\\int 1 dx$\n",
        "   - $\\int (x^2 +2) dx$\n",
        "   - $\\int 2\\sin(x) dx$\n",
        "   - $\\int \\frac{3}{x} dx$\n",
        "   - $\\int \\frac{1}{x^2} dx$\n",
        "   - $\\int \\left( \\frac{1}{3}x^4 - 5 \\right) \\, dx$\n",
        "   - $\\int (\\sin^2 x + \\cos^2 x) \\, dx$\n",
        "   - $\\int (5 \\sin x + 3e^x) \\, dx$\n",
        "   - $\\int \\sqrt[3]{x} \\, dx$\n",
        "   - $\\int \\sqrt{10x} \\, dx$\n",
        "   - $\\int \\cos\\left(\\frac{5}{2}x + 3\\right) \\, dx$\n",
        "   - $\\int \\frac{\\cos(\\ln(x))}{x} \\, dx$\n",
        "   - $\\int x \\ln(x) \\, dx$\n",
        "   - $\\int x e^x \\, dx$\n"
      ]
    },
    {
      "cell_type": "markdown",
      "source": [
        "# ***Homework***\n",
        "1. **Integral of 1**:\n",
        "\n",
        "   $\n",
        "   \\int 1 \\, dx = x + C\n",
        "   $\n",
        "\n",
        "2. **Integral of $ x^2 + 2 $**:\n",
        "\n",
        "   $\n",
        "   \\int (x^2 + 2) \\, dx = \\frac{x^3}{3} + 2x + C\n",
        "   $\n",
        "\n",
        "3. **Integral of $ 2\\sin(x) $**:\n",
        "\n",
        "   $\n",
        "   \\int 2\\sin(x) \\, dx = -2\\cos(x) + C\n",
        "   $\n",
        "\n",
        "4. **Integral of $ \\frac{3}{x} $**:\n",
        "\n",
        "   $\n",
        "   \\int \\frac{3}{x} \\, dx = 3 \\ln|x| + C\n",
        "   $\n",
        "\n",
        "5. **Integral of $ \\frac{1}{x^2} $**:\n",
        "\n",
        "   $\n",
        "   \\int \\frac{1}{x^2} \\, dx = -\\frac{1}{x} + C\n",
        "   $\n",
        "\n",
        "6. **Integral of $ \\frac{1}{3}x^4 - 5 $**:\n",
        "\n",
        "   $\n",
        "   \\int \\left( \\frac{1}{3}x^4 - 5 \\right) \\, dx = \\frac{x^5}{15} - 5x + C\n",
        "   $\n",
        "\n",
        "7. **Integral of $ \\sin^2(x) + \\cos^2(x) $**:\n",
        "\n",
        "   Using the identity $ \\sin^2(x) + \\cos^2(x) = 1 $:\n",
        "  \n",
        "   $\n",
        "   \\int (\\sin^2(x) + \\cos^2(x)) \\, dx = \\int 1 \\, dx = x + C\n",
        "   $\n",
        "\n",
        "8. **Integral of $ 5 \\sin(x) + 3e^x $**:\n",
        "\n",
        "   $\n",
        "   \\int (5 \\sin(x) + 3e^x) \\, dx = -5\\cos(x) + 3e^x + C\n",
        "   $\n",
        "\n",
        "9. **Integral of $ \\sqrt[3]{x} $**:\n",
        "\n",
        "   $\n",
        "   \\int \\sqrt[3]{x} \\, dx = \\int x^{\\frac{1}{3}} \\, dx = \\frac{3}{4}x^{\\frac{4}{3}} + C\n",
        "   $\n",
        "\n",
        "10. **Integral of $ \\sqrt{10x} $**:\n",
        "\n",
        "    $\\int \\sqrt{10x} \\, dx = \\int \\sqrt{10}x^{\\frac{1}{2}} \\, dx = \\frac{2\\sqrt{10}}{3}x^{\\frac{3}{2}} + C$\n",
        "\n",
        "11. **Integral of $ \\cos\\left(\\frac{5}{2}x + 3\\right) $**:\n",
        "    \n",
        "    $\n",
        "    \\int \\cos\\left(\\frac{5}{2}x + 3\\right) \\, dx = \\frac{2}{5} \\sin\\left(\\frac{5}{2}x + 3\\right) + C\n",
        "    $\n",
        "\n",
        "12. **Integral of $ \\frac{\\cos(\\ln(x))}{x} $**:\n",
        "\n",
        "    This is a standard integral:\n",
        "    \n",
        "    $\n",
        "    \\int \\frac{\\cos(\\ln(x))}{x} \\, dx = \\sin(\\ln(x)) + C\n",
        "    $\n",
        "\n",
        "13. **Integral of $ x \\ln(x) $**:\n",
        "\n",
        "    We use integration by parts:\n",
        "    \n",
        "    $\n",
        "    \\int x \\ln(x) \\, dx = \\frac{x^2}{2} \\ln(x) - \\frac{x^2}{4} + C\n",
        "    $\n",
        "\n",
        "14. **Integral of $ x e^x $**:\n",
        "\n",
        "    Using integration by parts:\n",
        "    \n",
        "    $\n",
        "    \\int x e^x \\, dx = (x - 1)e^x + C\n",
        "    $\n"
      ],
      "metadata": {
        "id": "6yFBa4O3paMe"
      }
    }
  ],
  "metadata": {
    "kernelspec": {
      "display_name": "Python 3",
      "language": "python",
      "name": "python3"
    },
    "language_info": {
      "codemirror_mode": {
        "name": "ipython",
        "version": 3
      },
      "file_extension": ".py",
      "mimetype": "text/x-python",
      "name": "python",
      "nbconvert_exporter": "python",
      "pygments_lexer": "ipython3",
      "version": "3.8.5"
    },
    "colab": {
      "provenance": [],
      "include_colab_link": true
    }
  },
  "nbformat": 4,
  "nbformat_minor": 0
}